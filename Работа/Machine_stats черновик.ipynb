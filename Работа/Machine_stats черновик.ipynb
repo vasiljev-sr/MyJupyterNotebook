{
 "cells": [
  {
   "cell_type": "code",
   "execution_count": 3,
   "metadata": {},
   "outputs": [],
   "source": [
    "import pandas as pd\n",
    "import numpy as np\n",
    "from datetime import datetime as dt\n",
    "from datetime import date, timedelta"
   ]
  },
  {
   "cell_type": "code",
   "execution_count": null,
   "metadata": {},
   "outputs": [],
   "source": [
    "df = "
   ]
  },
  {
   "cell_type": "code",
   "execution_count": 8,
   "metadata": {},
   "outputs": [
    {
     "ename": "NameError",
     "evalue": "name 'df' is not defined",
     "output_type": "error",
     "traceback": [
      "\u001b[1;31m---------------------------------------------------------------------------\u001b[0m",
      "\u001b[1;31mNameError\u001b[0m                                 Traceback (most recent call last)",
      "\u001b[1;32m<ipython-input-8-5d5ac7c46df8>\u001b[0m in \u001b[0;36m<module>\u001b[1;34m\u001b[0m\n\u001b[1;32m----> 1\u001b[1;33m \u001b[0mdf\u001b[0m\u001b[1;33m[\u001b[0m\u001b[1;34m'date'\u001b[0m\u001b[1;33m]\u001b[0m \u001b[1;33m=\u001b[0m \u001b[0mpd\u001b[0m\u001b[1;33m.\u001b[0m\u001b[0mto_datetime\u001b[0m\u001b[1;33m(\u001b[0m\u001b[0mdf\u001b[0m\u001b[1;33m.\u001b[0m\u001b[0mtimestamp\u001b[0m\u001b[1;33m,\u001b[0m \u001b[0munit\u001b[0m\u001b[1;33m=\u001b[0m\u001b[1;34m's'\u001b[0m\u001b[1;33m)\u001b[0m\u001b[1;33m\u001b[0m\u001b[1;33m\u001b[0m\u001b[0m\n\u001b[0m",
      "\u001b[1;31mNameError\u001b[0m: name 'df' is not defined"
     ]
    }
   ],
   "source": [
    "df['date'] = pd.to_datetime(df.timestamp, unit='s')"
   ]
  },
  {
   "cell_type": "code",
   "execution_count": null,
   "metadata": {},
   "outputs": [],
   "source": [
    "df1 = df['date']"
   ]
  },
  {
   "cell_type": "code",
   "execution_count": null,
   "metadata": {},
   "outputs": [],
   "source": [
    "df1 = df1.to_frame()"
   ]
  },
  {
   "cell_type": "code",
   "execution_count": null,
   "metadata": {},
   "outputs": [],
   "source": [
    "df1['time'] = df1.date.dt.time"
   ]
  },
  {
   "cell_type": "code",
   "execution_count": null,
   "metadata": {},
   "outputs": [],
   "source": [
    "df1 = df1.sort_values(by='date',ascending=True)"
   ]
  },
  {
   "cell_type": "code",
   "execution_count": null,
   "metadata": {},
   "outputs": [],
   "source": [
    "df1.to_csv('2machine')"
   ]
  },
  {
   "cell_type": "code",
   "execution_count": null,
   "metadata": {},
   "outputs": [],
   "source": [
    "df1['ts'] = df1.date.values.astype(np.int64) // 10 ** 9`"
   ]
  },
  {
   "cell_type": "code",
   "execution_count": null,
   "metadata": {},
   "outputs": [],
   "source": [
    "df1 = df1.sort_values(by='ts',ascending=True)"
   ]
  },
  {
   "cell_type": "code",
   "execution_count": null,
   "metadata": {},
   "outputs": [],
   "source": [
    "df2 = pd.DataFrame(np.diff(df1.ts), columns=['time_diff'])"
   ]
  },
  {
   "cell_type": "code",
   "execution_count": null,
   "metadata": {},
   "outputs": [],
   "source": [
    "down_time = df2.query('time_diff > 5000').time_diff.sum()"
   ]
  },
  {
   "cell_type": "code",
   "execution_count": null,
   "metadata": {},
   "outputs": [],
   "source": [
    "total_time = df2.time_diff.sum()"
   ]
  },
  {
   "cell_type": "code",
   "execution_count": 5,
   "metadata": {},
   "outputs": [
    {
     "ename": "NameError",
     "evalue": "name 'total_time' is not defined",
     "output_type": "error",
     "traceback": [
      "\u001b[1;31m---------------------------------------------------------------------------\u001b[0m",
      "\u001b[1;31mNameError\u001b[0m                                 Traceback (most recent call last)",
      "\u001b[1;32m<ipython-input-5-5b42d3a33c77>\u001b[0m in \u001b[0;36m<module>\u001b[1;34m\u001b[0m\n\u001b[1;32m----> 1\u001b[1;33m \u001b[0mwork_time\u001b[0m \u001b[1;33m=\u001b[0m \u001b[0mtotal_time\u001b[0m \u001b[1;33m-\u001b[0m \u001b[0mdown_time\u001b[0m\u001b[1;33m\u001b[0m\u001b[1;33m\u001b[0m\u001b[0m\n\u001b[0m",
      "\u001b[1;31mNameError\u001b[0m: name 'total_time' is not defined"
     ]
    }
   ],
   "source": [
    "work_time = total_time - down_time"
   ]
  },
  {
   "cell_type": "code",
   "execution_count": null,
   "metadata": {},
   "outputs": [],
   "source": [
    "downtime"
   ]
  },
  {
   "cell_type": "code",
   "execution_count": null,
   "metadata": {},
   "outputs": [],
   "source": [
    "dff = pd.DataFrame([down_time,total_time], index=['Время простоя','Время работы'], columns=['секунды'])"
   ]
  },
  {
   "cell_type": "code",
   "execution_count": null,
   "metadata": {},
   "outputs": [],
   "source": [
    "dff"
   ]
  },
  {
   "cell_type": "code",
   "execution_count": 7,
   "metadata": {},
   "outputs": [
    {
     "ename": "NameError",
     "evalue": "name 'dff' is not defined",
     "output_type": "error",
     "traceback": [
      "\u001b[1;31m---------------------------------------------------------------------------\u001b[0m",
      "\u001b[1;31mNameError\u001b[0m                                 Traceback (most recent call last)",
      "\u001b[1;32m<ipython-input-7-1b4f0d11c5fa>\u001b[0m in \u001b[0;36m<module>\u001b[1;34m\u001b[0m\n\u001b[0;32m      2\u001b[0m \u001b[0mmpl\u001b[0m\u001b[1;33m.\u001b[0m\u001b[0mrcParams\u001b[0m\u001b[1;33m[\u001b[0m\u001b[1;34m'font.size'\u001b[0m\u001b[1;33m]\u001b[0m \u001b[1;33m=\u001b[0m \u001b[1;36m14.0\u001b[0m\u001b[1;33m\u001b[0m\u001b[1;33m\u001b[0m\u001b[0m\n\u001b[0;32m      3\u001b[0m \u001b[1;33m\u001b[0m\u001b[0m\n\u001b[1;32m----> 4\u001b[1;33m dff.plot.pie(y='секунды', figsize = (8,8),\n\u001b[0m\u001b[0;32m      5\u001b[0m              \u001b[0mexplode\u001b[0m \u001b[1;33m=\u001b[0m \u001b[1;33m(\u001b[0m\u001b[1;36m0\u001b[0m\u001b[1;33m,\u001b[0m \u001b[1;36m0.03\u001b[0m\u001b[1;33m)\u001b[0m\u001b[1;33m,\u001b[0m\u001b[1;33m\u001b[0m\u001b[1;33m\u001b[0m\u001b[0m\n\u001b[0;32m      6\u001b[0m              \u001b[0mautopct\u001b[0m\u001b[1;33m=\u001b[0m\u001b[1;34m'%1.1f%%'\u001b[0m\u001b[1;33m,\u001b[0m\u001b[1;33m\u001b[0m\u001b[1;33m\u001b[0m\u001b[0m\n",
      "\u001b[1;31mNameError\u001b[0m: name 'dff' is not defined"
     ]
    }
   ],
   "source": [
    "import matplotlib as mpl\n",
    "mpl.rcParams['font.size'] = 14.0\n",
    "\n",
    "dff.plot.pie(y='секунды', figsize = (8,8),\n",
    "             explode = (0, 0.03),\n",
    "             autopct='%1.1f%%',\n",
    "             colors=('tomato','dimgray'),\n",
    "             labels= None,\n",
    "             startangle=90,\n",
    "             textprops={'color':\"w\"},\n",
    "             ylabel = '')\n"
   ]
  },
  {
   "cell_type": "code",
   "execution_count": 6,
   "metadata": {},
   "outputs": [
    {
     "ename": "NameError",
     "evalue": "name 'dff' is not defined",
     "output_type": "error",
     "traceback": [
      "\u001b[1;31m---------------------------------------------------------------------------\u001b[0m",
      "\u001b[1;31mNameError\u001b[0m                                 Traceback (most recent call last)",
      "\u001b[1;32m<ipython-input-6-3fb1f418880d>\u001b[0m in \u001b[0;36m<module>\u001b[1;34m\u001b[0m\n\u001b[0;32m     10\u001b[0m \u001b[1;33m\u001b[0m\u001b[0m\n\u001b[0;32m     11\u001b[0m \u001b[0mfig1\u001b[0m\u001b[1;33m,\u001b[0m \u001b[0max1\u001b[0m \u001b[1;33m=\u001b[0m \u001b[0mplt\u001b[0m\u001b[1;33m.\u001b[0m\u001b[0msubplots\u001b[0m\u001b[1;33m(\u001b[0m\u001b[1;33m)\u001b[0m\u001b[1;33m\u001b[0m\u001b[1;33m\u001b[0m\u001b[0m\n\u001b[1;32m---> 12\u001b[1;33m ax1.pie(dff[0], labels=dff.index,\n\u001b[0m\u001b[0;32m     13\u001b[0m              \u001b[0mexplode\u001b[0m \u001b[1;33m=\u001b[0m \u001b[1;33m(\u001b[0m\u001b[1;36m0\u001b[0m\u001b[1;33m,\u001b[0m \u001b[1;36m0.05\u001b[0m\u001b[1;33m)\u001b[0m\u001b[1;33m,\u001b[0m\u001b[1;33m\u001b[0m\u001b[1;33m\u001b[0m\u001b[0m\n\u001b[0;32m     14\u001b[0m              \u001b[0mautopct\u001b[0m\u001b[1;33m=\u001b[0m\u001b[1;34m'%1.1f%%'\u001b[0m\u001b[1;33m,\u001b[0m\u001b[1;33m\u001b[0m\u001b[1;33m\u001b[0m\u001b[0m\n",
      "\u001b[1;31mNameError\u001b[0m: name 'dff' is not defined"
     ]
    },
    {
     "data": {
      "image/png": "[encoded data removed]",
      "text/plain": [
       "<Figure size 432x288 with 1 Axes>"
      ]
     },
     "metadata": {
      "needs_background": "light"
     },
     "output_type": "display_data"
    }
   ],
   "source": [
    "import matplotlib.pyplot as plt\n",
    "import matplotlib as mpl\n",
    "mpl.rcParams['font.size'] = 14.0\n",
    "\n",
    "# Pie chart, where the slices will be ordered and plotted counter-clockwise:\n",
    "labels = 'Frogs', 'Hogs'\n",
    "sizes = [15, 30]\n",
    "explode = (0, 0.1, 0, 0)  # only \"explode\" the 2nd slice (i.e. 'Hogs')\n",
    "\n",
    "\n",
    "fig1, ax1 = plt.subplots()\n",
    "ax1.pie(dff[0], labels=dff.index,\n",
    "             explode = (0, 0.05),\n",
    "             autopct='%1.1f%%',\n",
    "             colors=('tomato','dimgray'),\n",
    "             startangle=90)\n",
    "_, _,autotexts = ax1.pie(dff[0], labels=dff.index,\n",
    "             explode = (0, 0.05),\n",
    "             autopct='%1.1f%%',\n",
    "             colors=('tomato','dimgray'),\n",
    "             startangle=90)\n",
    "for autotext in autotexts:\n",
    "    autotext.set_color('white')\n",
    "\n",
    "plt.show()"
   ]
  },
  {
   "cell_type": "code",
   "execution_count": null,
   "metadata": {},
   "outputs": [],
   "source": [
    "down_time/work_time * 100"
   ]
  },
  {
   "cell_type": "code",
   "execution_count": null,
   "metadata": {},
   "outputs": [],
   "source": [
    "last_day = dt.today().replace(day=1) - timedelta(days=1)"
   ]
  },
  {
   "cell_type": "code",
   "execution_count": null,
   "metadata": {},
   "outputs": [],
   "source": [
    "start_day =  date.today().replace(day=1) - timedelta(days=last_day.day)"
   ]
  },
  {
   "cell_type": "code",
   "execution_count": null,
   "metadata": {},
   "outputs": [],
   "source": [
    "start_day"
   ]
  },
  {
   "cell_type": "code",
   "execution_count": null,
   "metadata": {},
   "outputs": [],
   "source": [
    "date.today().replace(day=1)"
   ]
  },
  {
   "cell_type": "code",
   "execution_count": null,
   "metadata": {},
   "outputs": [],
   "source": [
    "timedelta(days=1)"
   ]
  },
  {
   "cell_type": "code",
   "execution_count": null,
   "metadata": {},
   "outputs": [],
   "source": [
    "timedelta(days=last_day.day)"
   ]
  },
  {
   "cell_type": "code",
   "execution_count": null,
   "metadata": {},
   "outputs": [],
   "source": [
    "last_day"
   ]
  },
  {
   "cell_type": "code",
   "execution_count": null,
   "metadata": {},
   "outputs": [],
   "source": [
    "date.fromtimestamp()"
   ]
  },
  {
   "cell_type": "code",
   "execution_count": null,
   "metadata": {},
   "outputs": [],
   "source": [
    "date.today().replace(day=1)"
   ]
  },
  {
   "cell_type": "code",
   "execution_count": null,
   "metadata": {},
   "outputs": [],
   "source": [
    "str(start_day)"
   ]
  },
  {
   "cell_type": "code",
   "execution_count": null,
   "metadata": {},
   "outputs": [],
   "source": [
    "import pandas as pd\n",
    "import numpy as np\n",
    "from datetime import datetime as dt\n",
    "from datetime import date, timedelta\n",
    "import mysql.connector\n",
    "from mysql.connector import Error\n",
    "import matplotlib as mpl\n",
    "mpl.rcParams['font.size'] = 12.0\n",
    "\n",
    "class Machine_stats:\n",
    "    \n",
    "    def __init__(self):\n",
    "        self.machines_id = {1:'11010401', 2:'11030401', 4:'12040401', 5:'12060401', 6:'13070401'}\n",
    "        self.prev_month_last_day = date.today().replace(day=1) - timedelta(days=1)\n",
    "        self.prev_month_start_day =  date.today().replace(day=1) - timedelta(days=last_day.day)\n",
    "        self.today =  date.today()\n",
    "        self.curr_month_start_day = date.today().replace(day=1)\n",
    "        \n",
    "        \n",
    "    def read_database(self, date_in, date_out, id_num=1): \n",
    "        conn = mysql.connector.connect(host='172.15.0.225',\n",
    "                                       database='dispall_cbk',\n",
    "                                       user='reader',\n",
    "                                       password='12341234')\n",
    "        \n",
    "        query='''SELECT date_in\n",
    "                 FROM ustr\n",
    "                 WHERE id= {id} and znach>0 and\n",
    "                 date_in BETWEEN  \"{datein}\" and \"{dateout}\" '''.format(datein=date_in,\n",
    "                                       dateout= date_out,\n",
    "                                       id= self.machines_id[id_num])\n",
    "        df = pd.read_sql_query(query,conn)\n",
    "        df = df.rename(columns={'date_in' : 'date'})\n",
    "        conn.close()\n",
    "        return df\n",
    "    \n",
    "    \n",
    "    def find_diff(self,df):\n",
    "        df['ts'] = df.date.values.astype(np.int64) // 10 ** 9\n",
    "        df_diff = pd.DataFrame(np.diff(df.ts), columns=['time_diff'])\n",
    "        return df_diff\n",
    "    \n",
    "    def prev_mon_pie_plot(self, id_num=1, time=300):\n",
    "        day_in = str(self.prev_month_start_day) + '00:00:00'\n",
    "        day_out = str(self.prev_month_last_day) + ' 23:59:59'\n",
    "        df = self.find_diff(self.read_database(day_in, day_out, id_num)) \n",
    "        \n",
    "        down_time = df.query('time_diff > @time').time_diff.sum() # время простоя\n",
    "        total_time = df.time_diff.sum() # общее время\n",
    "        work_time = total_time - down_time # время работы\n",
    "        \n",
    "        plot_df = pd.DataFrame([down_time,total_time], index=['Время простоя','Время работы'], columns=['секунды'])\n",
    "        \n",
    "        plot_df.plot.pie(y='секунды', figsize = (8,8),\n",
    "             explode = (0, 0.03),\n",
    "             autopct='%1.1f%%',\n",
    "             colors=('tomato','dimgray'),\n",
    "             labels= None,\n",
    "             startangle=90,\n",
    "             textprops={'color':\"w\"},\n",
    "             ylabel = '')\n",
    "        return f'Простой {down_time} работа {work_time}, общее время {total_time}'\n",
    "        \n",
    "    def curr_mon_pie_plot(self, id_num=1, time=300):\n",
    "        day_in = str(self.curr_month_start_day)\n",
    "        day_out = str(self.today) + ' 23:59:59'\n",
    "        df = self.find_diff(self.read_database(day_in, day_out, id_num)) \n",
    "        \n",
    "        down_time = df.query('time_diff > @time').time_diff.sum() # время простоя\n",
    "        total_time = df.time_diff.sum() # общее время\n",
    "        work_time = total_time - down_time # время работы\n",
    "        \n",
    "        plot_df = pd.DataFrame([down_time,work_time], index=['Время простоя','Время работы'], columns=['секунды'])\n",
    "        \n",
    "        plot_df.plot.pie(y='секунды', figsize = (8,8),\n",
    "             explode = (0, 0.03),\n",
    "             autopct='%1.1f%%',\n",
    "             colors=('tomato','dimgray'),\n",
    "             labels= None,\n",
    "             startangle=90,\n",
    "             textprops={'color':\"w\"},\n",
    "             ylabel = '')\n",
    "        \n",
    "        return f'Простой {down_time} работа {work_time}, общее время {total_time}'\n",
    "    \n",
    "    def pie_plot(self,day_in, day_out, id_num=1, time=300):\n",
    "\n",
    "        df = self.find_diff(self.read_database(day_in, day_out, id_num)) \n",
    "        \n",
    "        down_time = df.query('time_diff > @time').time_diff.sum() # время простоя\n",
    "        total_time = df.time_diff.sum() # общее время\n",
    "        work_time = total_time - down_time # время работы\n",
    "        \n",
    "        plot_df = pd.DataFrame([down_time,work_time], index=['Время простоя','Время работы'], columns=['секунды'])\n",
    "        \n",
    "        plot_df.plot.pie(y='секунды', figsize = (8,8),\n",
    "             explode = (0, 0.03),\n",
    "             autopct='%1.1f%%',\n",
    "             colors=('tomato','dimgray'),\n",
    "             labels= None,\n",
    "             startangle=90,\n",
    "             textprops={'color':\"w\"},\n",
    "             ylabel = '')\n",
    "        \n",
    "        return f'Простой {down_time} работа {work_time}, общее время {total_time}'"
   ]
  },
  {
   "cell_type": "code",
   "execution_count": null,
   "metadata": {},
   "outputs": [],
   "source": [
    "'''SELECT date_in, znach\\\n",
    "   FROM ustr\\\n",
    "   WHERE date_in > {datein} and date_in < {dateout} and id={id} and znach>0'''.format(datein=str(start_day) + ' 23:59:59',\n",
    "                                                                                     dateout= str(start_day) + ' 23:59:59',\n",
    "                                                                                     id= '121212')"
   ]
  },
  {
   "cell_type": "code",
   "execution_count": null,
   "metadata": {},
   "outputs": [],
   "source": [
    " date.today()"
   ]
  },
  {
   "cell_type": "code",
   "execution_count": null,
   "metadata": {},
   "outputs": [],
   "source": [
    "b = Machine_stats()"
   ]
  },
  {
   "cell_type": "code",
   "execution_count": null,
   "metadata": {},
   "outputs": [],
   "source": [
    "s1 = str(b.today) + ' 00:00:00'\n",
    "s2 = str(b.today) + ' 23:59:59'"
   ]
  },
  {
   "cell_type": "code",
   "execution_count": null,
   "metadata": {},
   "outputs": [],
   "source": [
    "s1"
   ]
  },
  {
   "cell_type": "code",
   "execution_count": null,
   "metadata": {},
   "outputs": [],
   "source": [
    "b.pie_plot(s1,s2)"
   ]
  },
  {
   "cell_type": "code",
   "execution_count": null,
   "metadata": {},
   "outputs": [],
   "source": [
    "df = b.read_database(s1,s2)\n",
    "df['ts'] = df.date.values.astype(np.int64) // 10 ** 9\n",
    "df_diff = pd.DataFrame(np.diff(df.ts), columns=['time_diff'])\n",
    "df_diff"
   ]
  },
  {
   "cell_type": "code",
   "execution_count": null,
   "metadata": {},
   "outputs": [],
   "source": [
    "df"
   ]
  },
  {
   "cell_type": "code",
   "execution_count": null,
   "metadata": {},
   "outputs": [],
   "source": [
    "b.curr_mon_pie_plot()"
   ]
  },
  {
   "cell_type": "code",
   "execution_count": null,
   "metadata": {},
   "outputs": [],
   "source": [
    "df1 = b.find_diff(df)"
   ]
  },
  {
   "cell_type": "code",
   "execution_count": null,
   "metadata": {},
   "outputs": [],
   "source": [
    "df1"
   ]
  },
  {
   "cell_type": "code",
   "execution_count": null,
   "metadata": {},
   "outputs": [],
   "source": [
    "str(b.prev_month_last_day)"
   ]
  },
  {
   "cell_type": "code",
   "execution_count": null,
   "metadata": {},
   "outputs": [],
   "source": [
    "b.prev_month_start_day"
   ]
  },
  {
   "cell_type": "code",
   "execution_count": null,
   "metadata": {},
   "outputs": [],
   "source": [
    "b.today"
   ]
  },
  {
   "cell_type": "code",
   "execution_count": null,
   "metadata": {},
   "outputs": [],
   "source": [
    "b.curr_month_start_day"
   ]
  },
  {
   "cell_type": "code",
   "execution_count": null,
   "metadata": {},
   "outputs": [],
   "source": [
    "a = b.pie_plot('2021-03-08 00:00:00','2021-03-08 23:59:59' )\n",
    "#a['ts'] = a.date.values.astype(np.int64) // 10 ** 9\n",
    "#a    "
   ]
  },
  {
   "cell_type": "code",
   "execution_count": null,
   "metadata": {},
   "outputs": [],
   "source": [
    "aa = b.find_diff(a)\n",
    "aa"
   ]
  },
  {
   "cell_type": "code",
   "execution_count": null,
   "metadata": {},
   "outputs": [],
   "source": [
    "1615300359 - 1615161609 == aa.time_diff.sum()"
   ]
  },
  {
   "cell_type": "code",
   "execution_count": 79,
   "metadata": {},
   "outputs": [
    {
     "data": {
      "text/plain": [
       "<matplotlib.legend.Legend at 0xe693c40>"
      ]
     },
     "execution_count": 79,
     "metadata": {},
     "output_type": "execute_result"
    },
    {
     "data": {
      "image/png": "[encoded data removed]",
      "text/plain": [
       "<Figure size 432x288 with 1 Axes>"
      ]
     },
     "metadata": {},
     "output_type": "display_data"
    }
   ],
   "source": [
    "\n",
    "vals = [10000, 100000]\n",
    "labels = ['Время простоя', 'Время работы']\n",
    "explode = (0.1, 0)\n",
    "fig, ax = plt.subplots()\n",
    "ax.pie(vals, labels=None, autopct='%1.1f%%', shadow=False,\n",
    "explode=explode,\n",
    "rotatelabels=True,\n",
    "colors = ('#ff5533','#1e2027'),\n",
    "pctdistance=0.7,\n",
    "textprops = dict(color =\"w\"),\n",
    "radius=2)\n",
    "ax.axis('equal')\n",
    "\n",
    "ax.legend(labels,\n",
    "          \n",
    "          loc =\"upper right\", \n",
    "          bbox_to_anchor =(0.8, 0, 0.5, 1)) "
   ]
  },
  {
   "cell_type": "code",
   "execution_count": null,
   "metadata": {},
   "outputs": [],
   "source": []
  }
 ],
 "metadata": {
  "kernelspec": {
   "display_name": "Python 3",
   "language": "python",
   "name": "python3"
  },
  "language_info": {
   "codemirror_mode": {
    "name": "ipython",
    "version": 3
   },
   "file_extension": ".py",
   "mimetype": "text/x-python",
   "name": "python",
   "nbconvert_exporter": "python",
   "pygments_lexer": "ipython3",
   "version": "3.8.5"
  }
 },
 "nbformat": 4,
 "nbformat_minor": 4
}
