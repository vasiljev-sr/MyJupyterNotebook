{
 "cells": [
  {
   "cell_type": "markdown",
   "metadata": {},
   "source": [
    "# Load Data from CSVs"
   ]
  },
  {
   "cell_type": "code",
   "execution_count": 1,
   "metadata": {},
   "outputs": [],
   "source": [
    "import unicodecsv"
   ]
  },
  {
   "cell_type": "code",
   "execution_count": null,
   "metadata": {},
   "outputs": [],
   "source": []
  },
  {
   "cell_type": "code",
   "execution_count": 2,
   "metadata": {},
   "outputs": [],
   "source": [
    "# информация зачислении и прекращении студентами курса\n",
    "\n",
    "with open('enrollments.csv', 'rb') as f:\n",
    "    reader = unicodecsv.DictReader(f)\n",
    "    enrollments = list(reader)"
   ]
  },
  {
   "cell_type": "code",
   "execution_count": 3,
   "metadata": {},
   "outputs": [],
   "source": [
    "# информация о ежедневной активности студентов\n",
    "\n",
    "with open('daily_engagement.csv', 'rb') as f:\n",
    "    reader = unicodecsv.DictReader(f)\n",
    "    daily_engagement = list(reader)"
   ]
  },
  {
   "cell_type": "code",
   "execution_count": 4,
   "metadata": {},
   "outputs": [],
   "source": [
    "# информация о представленных проектах \n",
    "\n",
    "with open('project_submissions.csv', 'rb') as f:\n",
    "    reader = unicodecsv.DictReader(f)\n",
    "    project_submissions = list(reader)"
   ]
  },
  {
   "cell_type": "code",
   "execution_count": 5,
   "metadata": {},
   "outputs": [
    {
     "data": {
      "text/plain": [
       "{'account_key': '448',\n",
       " 'status': 'canceled',\n",
       " 'join_date': '2014-11-10',\n",
       " 'cancel_date': '2015-01-14',\n",
       " 'days_to_cancel': '65',\n",
       " 'is_udacity': 'True',\n",
       " 'is_canceled': 'True'}"
      ]
     },
     "execution_count": 5,
     "metadata": {},
     "output_type": "execute_result"
    }
   ],
   "source": [
    "enrollments[0]"
   ]
  },
  {
   "cell_type": "code",
   "execution_count": 6,
   "metadata": {},
   "outputs": [
    {
     "data": {
      "text/plain": [
       "{'account_key': '0',\n",
       " 'utc_date': '2015-01-09',\n",
       " 'num_courses_visited': '1.0',\n",
       " 'total_minutes_visited': '11.6793745',\n",
       " 'lessons_completed': '0.0',\n",
       " 'projects_completed': '0.0'}"
      ]
     },
     "execution_count": 6,
     "metadata": {},
     "output_type": "execute_result"
    }
   ],
   "source": [
    "daily_engagement[0]"
   ]
  },
  {
   "cell_type": "code",
   "execution_count": 7,
   "metadata": {},
   "outputs": [
    {
     "data": {
      "text/plain": [
       "{'creation_date': '2015-01-14',\n",
       " 'completion_date': '2015-01-16',\n",
       " 'assigned_rating': 'UNGRADED',\n",
       " 'account_key': '256',\n",
       " 'lesson_key': '3176718735',\n",
       " 'processing_state': 'EVALUATED'}"
      ]
     },
     "execution_count": 7,
     "metadata": {},
     "output_type": "execute_result"
    }
   ],
   "source": [
    "project_submissions[0]"
   ]
  },
  {
   "cell_type": "code",
   "execution_count": 8,
   "metadata": {},
   "outputs": [],
   "source": [
    "from datetime import datetime as dt\n",
    "\n",
    "def parse_date(date): # преобразует строковый тип в дату\n",
    "    if date == '':\n",
    "        return None\n",
    "    else:\n",
    "        return dt.strptime(date, '%Y-%m-%d')\n",
    "    \n",
    "def parse_int(i): # преобразует str в int\n",
    "    if i == '':\n",
    "        return None\n",
    "    else:\n",
    "        return int(i)"
   ]
  },
  {
   "cell_type": "code",
   "execution_count": 9,
   "metadata": {
    "scrolled": true
   },
   "outputs": [],
   "source": [
    "# приводим к нужному типу данные в столбцах\n",
    "\n",
    "for enrollment in enrollments:\n",
    "    enrollment['join_date'] = parse_date(enrollment['join_date'])\n",
    "    enrollment['cancel_date'] = parse_date(enrollment['cancel_date'])\n",
    "    enrollment['days_to_cancel'] = parse_int(enrollment['days_to_cancel'])\n",
    "    enrollment['is_udacity'] = enrollment['is_udacity'] = True\n",
    "\n",
    "for d in daily_engagement:\n",
    "    d['utc_date'] = parse_date(d['utc_date'])\n",
    "    d['num_courses_visited'] = int(float(d['num_courses_visited']))\n",
    "    d['total_minutes_visited'] = float(d['total_minutes_visited'])\n",
    "    d['lessons_completed'] = int(float(d['lessons_completed']))\n",
    "    d['projects_completed'] = int(float(d['projects_completed']))\n",
    "    \n",
    "for i in project_submissions:\n",
    "    i['creation_date'] = parse_date(i['creation_date'])\n",
    "    i['completion_date'] = parse_date(i['completion_date'])"
   ]
  },
  {
   "cell_type": "code",
   "execution_count": 10,
   "metadata": {},
   "outputs": [],
   "source": [
    "import pandas as pd\n",
    "e = pd.DataFrame(enrollments)"
   ]
  },
  {
   "cell_type": "code",
   "execution_count": 11,
   "metadata": {},
   "outputs": [
    {
     "data": {
      "text/html": [
       "<div>\n",
       "<style scoped>\n",
       "    .dataframe tbody tr th:only-of-type {\n",
       "        vertical-align: middle;\n",
       "    }\n",
       "\n",
       "    .dataframe tbody tr th {\n",
       "        vertical-align: top;\n",
       "    }\n",
       "\n",
       "    .dataframe thead th {\n",
       "        text-align: right;\n",
       "    }\n",
       "</style>\n",
       "<table border=\"1\" class=\"dataframe\">\n",
       "  <thead>\n",
       "    <tr style=\"text-align: right;\">\n",
       "      <th></th>\n",
       "      <th>account_key</th>\n",
       "      <th>status</th>\n",
       "      <th>join_date</th>\n",
       "      <th>cancel_date</th>\n",
       "      <th>days_to_cancel</th>\n",
       "      <th>is_udacity</th>\n",
       "      <th>is_canceled</th>\n",
       "    </tr>\n",
       "  </thead>\n",
       "  <tbody>\n",
       "    <tr>\n",
       "      <th>0</th>\n",
       "      <td>448</td>\n",
       "      <td>canceled</td>\n",
       "      <td>2014-11-10</td>\n",
       "      <td>2015-01-14</td>\n",
       "      <td>65.0</td>\n",
       "      <td>True</td>\n",
       "      <td>True</td>\n",
       "    </tr>\n",
       "    <tr>\n",
       "      <th>1</th>\n",
       "      <td>448</td>\n",
       "      <td>canceled</td>\n",
       "      <td>2014-11-05</td>\n",
       "      <td>2014-11-10</td>\n",
       "      <td>5.0</td>\n",
       "      <td>True</td>\n",
       "      <td>True</td>\n",
       "    </tr>\n",
       "    <tr>\n",
       "      <th>2</th>\n",
       "      <td>448</td>\n",
       "      <td>canceled</td>\n",
       "      <td>2015-01-27</td>\n",
       "      <td>2015-01-27</td>\n",
       "      <td>0.0</td>\n",
       "      <td>True</td>\n",
       "      <td>True</td>\n",
       "    </tr>\n",
       "    <tr>\n",
       "      <th>3</th>\n",
       "      <td>448</td>\n",
       "      <td>canceled</td>\n",
       "      <td>2014-11-10</td>\n",
       "      <td>2014-11-10</td>\n",
       "      <td>0.0</td>\n",
       "      <td>True</td>\n",
       "      <td>True</td>\n",
       "    </tr>\n",
       "    <tr>\n",
       "      <th>4</th>\n",
       "      <td>448</td>\n",
       "      <td>current</td>\n",
       "      <td>2015-03-10</td>\n",
       "      <td>NaT</td>\n",
       "      <td>NaN</td>\n",
       "      <td>True</td>\n",
       "      <td>False</td>\n",
       "    </tr>\n",
       "    <tr>\n",
       "      <th>...</th>\n",
       "      <td>...</td>\n",
       "      <td>...</td>\n",
       "      <td>...</td>\n",
       "      <td>...</td>\n",
       "      <td>...</td>\n",
       "      <td>...</td>\n",
       "      <td>...</td>\n",
       "    </tr>\n",
       "    <tr>\n",
       "      <th>1635</th>\n",
       "      <td>1176</td>\n",
       "      <td>current</td>\n",
       "      <td>2015-08-12</td>\n",
       "      <td>NaT</td>\n",
       "      <td>NaN</td>\n",
       "      <td>True</td>\n",
       "      <td>False</td>\n",
       "    </tr>\n",
       "    <tr>\n",
       "      <th>1636</th>\n",
       "      <td>1110</td>\n",
       "      <td>current</td>\n",
       "      <td>2015-08-13</td>\n",
       "      <td>NaT</td>\n",
       "      <td>NaN</td>\n",
       "      <td>True</td>\n",
       "      <td>False</td>\n",
       "    </tr>\n",
       "    <tr>\n",
       "      <th>1637</th>\n",
       "      <td>1116</td>\n",
       "      <td>canceled</td>\n",
       "      <td>2015-08-15</td>\n",
       "      <td>2015-08-18</td>\n",
       "      <td>3.0</td>\n",
       "      <td>True</td>\n",
       "      <td>True</td>\n",
       "    </tr>\n",
       "    <tr>\n",
       "      <th>1638</th>\n",
       "      <td>874</td>\n",
       "      <td>current</td>\n",
       "      <td>2015-08-22</td>\n",
       "      <td>NaT</td>\n",
       "      <td>NaN</td>\n",
       "      <td>True</td>\n",
       "      <td>False</td>\n",
       "    </tr>\n",
       "    <tr>\n",
       "      <th>1639</th>\n",
       "      <td>686</td>\n",
       "      <td>current</td>\n",
       "      <td>2015-08-23</td>\n",
       "      <td>NaT</td>\n",
       "      <td>NaN</td>\n",
       "      <td>True</td>\n",
       "      <td>False</td>\n",
       "    </tr>\n",
       "  </tbody>\n",
       "</table>\n",
       "<p>1640 rows × 7 columns</p>\n",
       "</div>"
      ],
      "text/plain": [
       "     account_key    status  join_date cancel_date  days_to_cancel  is_udacity  \\\n",
       "0            448  canceled 2014-11-10  2015-01-14            65.0        True   \n",
       "1            448  canceled 2014-11-05  2014-11-10             5.0        True   \n",
       "2            448  canceled 2015-01-27  2015-01-27             0.0        True   \n",
       "3            448  canceled 2014-11-10  2014-11-10             0.0        True   \n",
       "4            448   current 2015-03-10         NaT             NaN        True   \n",
       "...          ...       ...        ...         ...             ...         ...   \n",
       "1635        1176   current 2015-08-12         NaT             NaN        True   \n",
       "1636        1110   current 2015-08-13         NaT             NaN        True   \n",
       "1637        1116  canceled 2015-08-15  2015-08-18             3.0        True   \n",
       "1638         874   current 2015-08-22         NaT             NaN        True   \n",
       "1639         686   current 2015-08-23         NaT             NaN        True   \n",
       "\n",
       "     is_canceled  \n",
       "0           True  \n",
       "1           True  \n",
       "2           True  \n",
       "3           True  \n",
       "4          False  \n",
       "...          ...  \n",
       "1635       False  \n",
       "1636       False  \n",
       "1637        True  \n",
       "1638       False  \n",
       "1639       False  \n",
       "\n",
       "[1640 rows x 7 columns]"
      ]
     },
     "execution_count": 11,
     "metadata": {},
     "output_type": "execute_result"
    }
   ],
   "source": [
    "e"
   ]
  },
  {
   "cell_type": "code",
   "execution_count": 12,
   "metadata": {},
   "outputs": [],
   "source": [
    "df = pd.DataFrame(daily_engagement)"
   ]
  },
  {
   "cell_type": "code",
   "execution_count": 13,
   "metadata": {},
   "outputs": [
    {
     "data": {
      "text/html": [
       "<div>\n",
       "<style scoped>\n",
       "    .dataframe tbody tr th:only-of-type {\n",
       "        vertical-align: middle;\n",
       "    }\n",
       "\n",
       "    .dataframe tbody tr th {\n",
       "        vertical-align: top;\n",
       "    }\n",
       "\n",
       "    .dataframe thead th {\n",
       "        text-align: right;\n",
       "    }\n",
       "</style>\n",
       "<table border=\"1\" class=\"dataframe\">\n",
       "  <thead>\n",
       "    <tr style=\"text-align: right;\">\n",
       "      <th></th>\n",
       "      <th>account_key</th>\n",
       "      <th>utc_date</th>\n",
       "      <th>num_courses_visited</th>\n",
       "      <th>total_minutes_visited</th>\n",
       "      <th>lessons_completed</th>\n",
       "      <th>projects_completed</th>\n",
       "    </tr>\n",
       "  </thead>\n",
       "  <tbody>\n",
       "    <tr>\n",
       "      <th>0</th>\n",
       "      <td>0</td>\n",
       "      <td>2015-01-09</td>\n",
       "      <td>1</td>\n",
       "      <td>11.679374</td>\n",
       "      <td>0</td>\n",
       "      <td>0</td>\n",
       "    </tr>\n",
       "    <tr>\n",
       "      <th>1</th>\n",
       "      <td>0</td>\n",
       "      <td>2015-01-10</td>\n",
       "      <td>2</td>\n",
       "      <td>37.284887</td>\n",
       "      <td>0</td>\n",
       "      <td>0</td>\n",
       "    </tr>\n",
       "    <tr>\n",
       "      <th>2</th>\n",
       "      <td>0</td>\n",
       "      <td>2015-01-11</td>\n",
       "      <td>2</td>\n",
       "      <td>53.633746</td>\n",
       "      <td>0</td>\n",
       "      <td>0</td>\n",
       "    </tr>\n",
       "    <tr>\n",
       "      <th>3</th>\n",
       "      <td>0</td>\n",
       "      <td>2015-01-12</td>\n",
       "      <td>1</td>\n",
       "      <td>33.489270</td>\n",
       "      <td>0</td>\n",
       "      <td>0</td>\n",
       "    </tr>\n",
       "    <tr>\n",
       "      <th>4</th>\n",
       "      <td>0</td>\n",
       "      <td>2015-01-13</td>\n",
       "      <td>1</td>\n",
       "      <td>64.779678</td>\n",
       "      <td>0</td>\n",
       "      <td>0</td>\n",
       "    </tr>\n",
       "    <tr>\n",
       "      <th>...</th>\n",
       "      <td>...</td>\n",
       "      <td>...</td>\n",
       "      <td>...</td>\n",
       "      <td>...</td>\n",
       "      <td>...</td>\n",
       "      <td>...</td>\n",
       "    </tr>\n",
       "    <tr>\n",
       "      <th>136235</th>\n",
       "      <td>1305</td>\n",
       "      <td>2015-06-14</td>\n",
       "      <td>0</td>\n",
       "      <td>0.000000</td>\n",
       "      <td>0</td>\n",
       "      <td>0</td>\n",
       "    </tr>\n",
       "    <tr>\n",
       "      <th>136236</th>\n",
       "      <td>1305</td>\n",
       "      <td>2015-06-15</td>\n",
       "      <td>0</td>\n",
       "      <td>0.000000</td>\n",
       "      <td>0</td>\n",
       "      <td>0</td>\n",
       "    </tr>\n",
       "    <tr>\n",
       "      <th>136237</th>\n",
       "      <td>1305</td>\n",
       "      <td>2015-06-16</td>\n",
       "      <td>1</td>\n",
       "      <td>2.720136</td>\n",
       "      <td>0</td>\n",
       "      <td>0</td>\n",
       "    </tr>\n",
       "    <tr>\n",
       "      <th>136238</th>\n",
       "      <td>1305</td>\n",
       "      <td>2015-06-17</td>\n",
       "      <td>0</td>\n",
       "      <td>0.000000</td>\n",
       "      <td>0</td>\n",
       "      <td>0</td>\n",
       "    </tr>\n",
       "    <tr>\n",
       "      <th>136239</th>\n",
       "      <td>1305</td>\n",
       "      <td>2015-06-18</td>\n",
       "      <td>0</td>\n",
       "      <td>0.000000</td>\n",
       "      <td>0</td>\n",
       "      <td>0</td>\n",
       "    </tr>\n",
       "  </tbody>\n",
       "</table>\n",
       "<p>136240 rows × 6 columns</p>\n",
       "</div>"
      ],
      "text/plain": [
       "       account_key   utc_date  num_courses_visited  total_minutes_visited  \\\n",
       "0                0 2015-01-09                    1              11.679374   \n",
       "1                0 2015-01-10                    2              37.284887   \n",
       "2                0 2015-01-11                    2              53.633746   \n",
       "3                0 2015-01-12                    1              33.489270   \n",
       "4                0 2015-01-13                    1              64.779678   \n",
       "...            ...        ...                  ...                    ...   \n",
       "136235        1305 2015-06-14                    0               0.000000   \n",
       "136236        1305 2015-06-15                    0               0.000000   \n",
       "136237        1305 2015-06-16                    1               2.720136   \n",
       "136238        1305 2015-06-17                    0               0.000000   \n",
       "136239        1305 2015-06-18                    0               0.000000   \n",
       "\n",
       "        lessons_completed  projects_completed  \n",
       "0                       0                   0  \n",
       "1                       0                   0  \n",
       "2                       0                   0  \n",
       "3                       0                   0  \n",
       "4                       0                   0  \n",
       "...                   ...                 ...  \n",
       "136235                  0                   0  \n",
       "136236                  0                   0  \n",
       "136237                  0                   0  \n",
       "136238                  0                   0  \n",
       "136239                  0                   0  \n",
       "\n",
       "[136240 rows x 6 columns]"
      ]
     },
     "execution_count": 13,
     "metadata": {},
     "output_type": "execute_result"
    }
   ],
   "source": [
    "df"
   ]
  },
  {
   "cell_type": "code",
   "execution_count": 14,
   "metadata": {},
   "outputs": [],
   "source": [
    " dff = pd.DataFrame(project_submissions)"
   ]
  },
  {
   "cell_type": "code",
   "execution_count": 15,
   "metadata": {},
   "outputs": [
    {
     "data": {
      "text/html": [
       "<div>\n",
       "<style scoped>\n",
       "    .dataframe tbody tr th:only-of-type {\n",
       "        vertical-align: middle;\n",
       "    }\n",
       "\n",
       "    .dataframe tbody tr th {\n",
       "        vertical-align: top;\n",
       "    }\n",
       "\n",
       "    .dataframe thead th {\n",
       "        text-align: right;\n",
       "    }\n",
       "</style>\n",
       "<table border=\"1\" class=\"dataframe\">\n",
       "  <thead>\n",
       "    <tr style=\"text-align: right;\">\n",
       "      <th></th>\n",
       "      <th>creation_date</th>\n",
       "      <th>completion_date</th>\n",
       "      <th>assigned_rating</th>\n",
       "      <th>account_key</th>\n",
       "      <th>lesson_key</th>\n",
       "      <th>processing_state</th>\n",
       "    </tr>\n",
       "  </thead>\n",
       "  <tbody>\n",
       "    <tr>\n",
       "      <th>0</th>\n",
       "      <td>2015-01-14</td>\n",
       "      <td>2015-01-16</td>\n",
       "      <td>UNGRADED</td>\n",
       "      <td>256</td>\n",
       "      <td>3176718735</td>\n",
       "      <td>EVALUATED</td>\n",
       "    </tr>\n",
       "    <tr>\n",
       "      <th>1</th>\n",
       "      <td>2015-01-10</td>\n",
       "      <td>2015-01-13</td>\n",
       "      <td>INCOMPLETE</td>\n",
       "      <td>256</td>\n",
       "      <td>3176718735</td>\n",
       "      <td>EVALUATED</td>\n",
       "    </tr>\n",
       "    <tr>\n",
       "      <th>2</th>\n",
       "      <td>2015-01-20</td>\n",
       "      <td>2015-01-20</td>\n",
       "      <td>PASSED</td>\n",
       "      <td>256</td>\n",
       "      <td>3176718735</td>\n",
       "      <td>EVALUATED</td>\n",
       "    </tr>\n",
       "    <tr>\n",
       "      <th>3</th>\n",
       "      <td>2015-03-10</td>\n",
       "      <td>2015-03-13</td>\n",
       "      <td>PASSED</td>\n",
       "      <td>434</td>\n",
       "      <td>3176718735</td>\n",
       "      <td>EVALUATED</td>\n",
       "    </tr>\n",
       "    <tr>\n",
       "      <th>4</th>\n",
       "      <td>2015-02-17</td>\n",
       "      <td>2015-03-03</td>\n",
       "      <td>INCOMPLETE</td>\n",
       "      <td>434</td>\n",
       "      <td>3176718735</td>\n",
       "      <td>EVALUATED</td>\n",
       "    </tr>\n",
       "    <tr>\n",
       "      <th>...</th>\n",
       "      <td>...</td>\n",
       "      <td>...</td>\n",
       "      <td>...</td>\n",
       "      <td>...</td>\n",
       "      <td>...</td>\n",
       "      <td>...</td>\n",
       "    </tr>\n",
       "    <tr>\n",
       "      <th>3637</th>\n",
       "      <td>2015-01-13</td>\n",
       "      <td>2015-01-22</td>\n",
       "      <td>PASSED</td>\n",
       "      <td>243</td>\n",
       "      <td>3176718735</td>\n",
       "      <td>EVALUATED</td>\n",
       "    </tr>\n",
       "    <tr>\n",
       "      <th>3638</th>\n",
       "      <td>2015-07-07</td>\n",
       "      <td>2015-07-07</td>\n",
       "      <td>INCOMPLETE</td>\n",
       "      <td>771</td>\n",
       "      <td>3176718735</td>\n",
       "      <td>EVALUATED</td>\n",
       "    </tr>\n",
       "    <tr>\n",
       "      <th>3639</th>\n",
       "      <td>2015-08-16</td>\n",
       "      <td>2015-08-16</td>\n",
       "      <td>PASSED</td>\n",
       "      <td>2</td>\n",
       "      <td>3176718735</td>\n",
       "      <td>EVALUATED</td>\n",
       "    </tr>\n",
       "    <tr>\n",
       "      <th>3640</th>\n",
       "      <td>2015-03-03</td>\n",
       "      <td>2015-03-11</td>\n",
       "      <td>PASSED</td>\n",
       "      <td>623</td>\n",
       "      <td>3176718735</td>\n",
       "      <td>EVALUATED</td>\n",
       "    </tr>\n",
       "    <tr>\n",
       "      <th>3641</th>\n",
       "      <td>2015-07-10</td>\n",
       "      <td>2015-07-11</td>\n",
       "      <td>PASSED</td>\n",
       "      <td>1274</td>\n",
       "      <td>4576183932</td>\n",
       "      <td>EVALUATED</td>\n",
       "    </tr>\n",
       "  </tbody>\n",
       "</table>\n",
       "<p>3642 rows × 6 columns</p>\n",
       "</div>"
      ],
      "text/plain": [
       "     creation_date completion_date assigned_rating account_key  lesson_key  \\\n",
       "0       2015-01-14      2015-01-16        UNGRADED         256  3176718735   \n",
       "1       2015-01-10      2015-01-13      INCOMPLETE         256  3176718735   \n",
       "2       2015-01-20      2015-01-20          PASSED         256  3176718735   \n",
       "3       2015-03-10      2015-03-13          PASSED         434  3176718735   \n",
       "4       2015-02-17      2015-03-03      INCOMPLETE         434  3176718735   \n",
       "...            ...             ...             ...         ...         ...   \n",
       "3637    2015-01-13      2015-01-22          PASSED         243  3176718735   \n",
       "3638    2015-07-07      2015-07-07      INCOMPLETE         771  3176718735   \n",
       "3639    2015-08-16      2015-08-16          PASSED           2  3176718735   \n",
       "3640    2015-03-03      2015-03-11          PASSED         623  3176718735   \n",
       "3641    2015-07-10      2015-07-11          PASSED        1274  4576183932   \n",
       "\n",
       "     processing_state  \n",
       "0           EVALUATED  \n",
       "1           EVALUATED  \n",
       "2           EVALUATED  \n",
       "3           EVALUATED  \n",
       "4           EVALUATED  \n",
       "...               ...  \n",
       "3637        EVALUATED  \n",
       "3638        EVALUATED  \n",
       "3639        EVALUATED  \n",
       "3640        EVALUATED  \n",
       "3641        EVALUATED  \n",
       "\n",
       "[3642 rows x 6 columns]"
      ]
     },
     "execution_count": 15,
     "metadata": {},
     "output_type": "execute_result"
    }
   ],
   "source": [
    "dff"
   ]
  },
  {
   "cell_type": "code",
   "execution_count": 16,
   "metadata": {},
   "outputs": [
    {
     "data": {
      "text/plain": [
       "{'account_key': '448',\n",
       " 'status': 'canceled',\n",
       " 'join_date': datetime.datetime(2014, 11, 10, 0, 0),\n",
       " 'cancel_date': datetime.datetime(2015, 1, 14, 0, 0),\n",
       " 'days_to_cancel': 65,\n",
       " 'is_udacity': True,\n",
       " 'is_canceled': 'True'}"
      ]
     },
     "execution_count": 16,
     "metadata": {},
     "output_type": "execute_result"
    }
   ],
   "source": [
    "enrollments[0]"
   ]
  },
  {
   "cell_type": "code",
   "execution_count": 17,
   "metadata": {},
   "outputs": [],
   "source": [
    "# находит число уникальных студентов в датасете\n",
    "def find_unique_students(data):\n",
    "    num_unique_students = set()\n",
    "    for i in data:\n",
    "        num_unique_students.add(i['account_key'])\n",
    "    return num_unique_students"
   ]
  },
  {
   "cell_type": "code",
   "execution_count": 18,
   "metadata": {},
   "outputs": [],
   "source": [
    "# нашли всколько всего студентов в датасетах и количество строк\n",
    "enrollment_num_rows = len(enrollments)   \n",
    "enrollment_num_unique_student = find_unique_students(enrollments)\n",
    "\n",
    "engagement_num_rows =len(daily_engagement)\n",
    "engagement_num_unique_studentt = find_unique_students(daily_engagement)\n",
    "\n",
    "submission_num_rows =len(project_submissions)  \n",
    "submission_num_unique_students = find_unique_students(project_submissions)\n"
   ]
  },
  {
   "cell_type": "code",
   "execution_count": 19,
   "metadata": {},
   "outputs": [
    {
     "data": {
      "text/plain": [
       "'0'"
      ]
     },
     "execution_count": 19,
     "metadata": {},
     "output_type": "execute_result"
    }
   ],
   "source": [
    "daily_engagement[0]['account_key']"
   ]
  },
  {
   "cell_type": "code",
   "execution_count": 56,
   "metadata": {},
   "outputs": [
    {
     "name": "stdout",
     "output_type": "stream",
     "text": [
      "{'account_key': '1304', 'status': 'canceled', 'join_date': datetime.datetime(2015, 1, 10, 0, 0), 'cancel_date': datetime.datetime(2015, 3, 10, 0, 0), 'days_to_cancel': 59, 'is_udacity': True, 'is_canceled': 'True'}\n",
      "\n",
      "{'account_key': '1304', 'status': 'canceled', 'join_date': datetime.datetime(2015, 3, 10, 0, 0), 'cancel_date': datetime.datetime(2015, 6, 17, 0, 0), 'days_to_cancel': 99, 'is_udacity': True, 'is_canceled': 'True'}\n",
      "\n",
      "{'account_key': '1101', 'status': 'current', 'join_date': datetime.datetime(2015, 2, 25, 0, 0), 'cancel_date': None, 'days_to_cancel': None, 'is_udacity': True, 'is_canceled': 'False'}\n",
      "\n"
     ]
    }
   ],
   "source": [
    "s = []\n",
    "for i in enrollments:\n",
    "    if i['cancel_date'] != i['join_date'] and i['account_key'] not in engagement_num_unique_studentt:\n",
    "        print(i)\n",
    "        print()\n",
    "            \n",
    "       \n",
    "        "
   ]
  },
  {
   "cell_type": "code",
   "execution_count": 54,
   "metadata": {},
   "outputs": [
    {
     "data": {
      "text/plain": [
       "[{'account_key': '1304',\n",
       "  'status': 'canceled',\n",
       "  'join_date': datetime.datetime(2015, 1, 10, 0, 0),\n",
       "  'cancel_date': datetime.datetime(2015, 3, 10, 0, 0),\n",
       "  'days_to_cancel': 59,\n",
       "  'is_udacity': True,\n",
       "  'is_canceled': 'True'},\n",
       " {'account_key': '1304',\n",
       "  'status': 'canceled',\n",
       "  'join_date': datetime.datetime(2015, 3, 10, 0, 0),\n",
       "  'cancel_date': datetime.datetime(2015, 6, 17, 0, 0),\n",
       "  'days_to_cancel': 99,\n",
       "  'is_udacity': True,\n",
       "  'is_canceled': 'True'},\n",
       " {'account_key': '1101',\n",
       "  'status': 'current',\n",
       "  'join_date': datetime.datetime(2015, 2, 25, 0, 0),\n",
       "  'cancel_date': None,\n",
       "  'days_to_cancel': None,\n",
       "  'is_udacity': True,\n",
       "  'is_canceled': 'False'}]"
      ]
     },
     "execution_count": 54,
     "metadata": {},
     "output_type": "execute_result"
    }
   ],
   "source": [
    "s"
   ]
  },
  {
   "cell_type": "code",
   "execution_count": null,
   "metadata": {},
   "outputs": [],
   "source": []
  }
 ],
 "metadata": {
  "kernelspec": {
   "display_name": "Python 3",
   "language": "python",
   "name": "python3"
  },
  "language_info": {
   "codemirror_mode": {
    "name": "ipython",
    "version": 3
   },
   "file_extension": ".py",
   "mimetype": "text/x-python",
   "name": "python",
   "nbconvert_exporter": "python",
   "pygments_lexer": "ipython3",
   "version": "3.8.3"
  }
 },
 "nbformat": 4,
 "nbformat_minor": 4
}
