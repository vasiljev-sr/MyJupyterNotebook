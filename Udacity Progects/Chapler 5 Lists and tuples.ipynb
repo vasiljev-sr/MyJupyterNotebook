{
 "cells": [
  {
   "cell_type": "code",
   "execution_count": 2,
   "metadata": {},
   "outputs": [
    {
     "name": "stdout",
     "output_type": "stream",
     "text": [
      "[1, 2, 3, 4, 5]\n"
     ]
    }
   ],
   "source": [
    "a_list = []\n",
    "for i in range(1,6):\n",
    "    a_list += [i]\n",
    "print(a_list)"
   ]
  },
  {
   "cell_type": "code",
   "execution_count": 1,
   "metadata": {},
   "outputs": [
    {
     "data": {
      "text/plain": [
       "[(0, 'red'), (1, 'blue'), (2, 'green')]"
      ]
     },
     "execution_count": 1,
     "metadata": {},
     "output_type": "execute_result"
    }
   ],
   "source": [
    "'''функция enuerate'''\n",
    "colors = [\"red\", \"blue\", \"green\"]\n",
    "list(enumerate(colors))"
   ]
  },
  {
   "cell_type": "code",
   "execution_count": 2,
   "metadata": {},
   "outputs": [
    {
     "name": "stdout",
     "output_type": "stream",
     "text": [
      "0: red\n",
      "1: blue\n",
      "2: green\n"
     ]
    }
   ],
   "source": [
    "for i,v in enumerate(colors):\n",
    "    print(f'{i}: {v}')"
   ]
  },
  {
   "cell_type": "code",
   "execution_count": 8,
   "metadata": {},
   "outputs": [
    {
     "name": "stdout",
     "output_type": "stream",
     "text": [
      "\n",
      "Создана столбчата диаграмма из чисел:\n",
      "Index   Value   Bar\n",
      "    0      19   *******************\n",
      "    1       5   *****\n",
      "    2      25   *************************\n",
      "    3      36   ************************************\n",
      "    4      14   **************\n",
      "    5       2   **\n"
     ]
    }
   ],
   "source": [
    "'''Построение гистограммы'''\n",
    "numbers = [19,5,25,36,14,2]\n",
    "print('\\nСоздана столбчата диаграмма из чисел:')\n",
    "print(f'Index{\"Value\":>8}   Bar')\n",
    "for i,v in enumerate(numbers):\n",
    "    print(f'{i:>5}{v:>8}   {\"*\"*v}')"
   ]
  },
  {
   "cell_type": "code",
   "execution_count": 10,
   "metadata": {},
   "outputs": [
    {
     "data": {
      "text/plain": [
       "[0, 2, 4, 6, 8, 10, 12, 14, 16, 18]"
      ]
     },
     "execution_count": 10,
     "metadata": {},
     "output_type": "execute_result"
    }
   ],
   "source": [
    "def modify_list(iteam):\n",
    "    for i in range(len(iteam)):\n",
    "        iteam[i] *= 2\n",
    "num = list(range(10))\n",
    "modify_list(num)\n",
    "num"
   ]
  },
  {
   "cell_type": "code",
   "execution_count": 13,
   "metadata": {},
   "outputs": [
    {
     "data": {
      "text/plain": [
       "[9, 8, 8, 7, 7, 6, 6, 5, 5, 4, 4, 3, 2, 1, 1]"
      ]
     },
     "execution_count": 13,
     "metadata": {},
     "output_type": "execute_result"
    }
   ],
   "source": [
    "numbers = [1,5,7,8,9,6,3,4,1,5,4,2,6,8,7]\n",
    "numbers.sort(reverse=True)\n",
    "numbers"
   ]
  },
  {
   "cell_type": "code",
   "execution_count": 14,
   "metadata": {},
   "outputs": [
    {
     "data": {
      "text/plain": [
       "13"
      ]
     },
     "execution_count": 14,
     "metadata": {},
     "output_type": "execute_result"
    }
   ],
   "source": [
    "numbers.index(1)"
   ]
  },
  {
   "cell_type": "code",
   "execution_count": 25,
   "metadata": {},
   "outputs": [
    {
     "data": {
      "text/plain": [
       "1"
      ]
     },
     "execution_count": 25,
     "metadata": {},
     "output_type": "execute_result"
    }
   ],
   "source": [
    "numbers = [1,5,7,8,9,6,3,4,1,5,4,2,6,8,7]\n",
    "numbers.index(5,0,8)"
   ]
  },
  {
   "cell_type": "code",
   "execution_count": 29,
   "metadata": {},
   "outputs": [
    {
     "name": "stdout",
     "output_type": "stream",
     "text": [
      "100 not found\n"
     ]
    }
   ],
   "source": [
    "key = 100\n",
    "if key in numbers:\n",
    "    print(f'found{key} at index{numbers.index(key)}')\n",
    "else:\n",
    "    print(f'{key} not found')"
   ]
  },
  {
   "cell_type": "code",
   "execution_count": 31,
   "metadata": {},
   "outputs": [
    {
     "data": {
      "text/plain": [
       "[2, 4, 6, 8, 10]"
      ]
     },
     "execution_count": 31,
     "metadata": {},
     "output_type": "execute_result"
    }
   ],
   "source": [
    "list1 = [i for i in range(1,11) if i%2 == 0]\n",
    "list1"
   ]
  },
  {
   "cell_type": "code",
   "execution_count": 32,
   "metadata": {},
   "outputs": [
    {
     "data": {
      "text/plain": [
       "['RED', 'ORANGE', 'YELLOW', 'GREEN', 'BLUE']"
      ]
     },
     "execution_count": 32,
     "metadata": {},
     "output_type": "execute_result"
    }
   ],
   "source": [
    "colors =  ['red', 'orange', 'yellow', 'green', 'blue']\n",
    "colors2 = [i.upper() for i in colors]\n",
    "colors2"
   ]
  },
  {
   "cell_type": "code",
   "execution_count": 2,
   "metadata": {},
   "outputs": [
    {
     "name": "stdout",
     "output_type": "stream",
     "text": [
      "9 49 1 81 25 "
     ]
    }
   ],
   "source": [
    "num = [10, 3, 7, 1, 9, 4, 2, 8, 5, 6]\n",
    "for i in (x**2 for x in num if x%2 != 0):\n",
    "    print(i,end = \" \")"
   ]
  },
  {
   "cell_type": "code",
   "execution_count": 3,
   "metadata": {},
   "outputs": [
    {
     "data": {
      "text/plain": [
       "[3, 7, 1, 9, 5]"
      ]
     },
     "execution_count": 3,
     "metadata": {},
     "output_type": "execute_result"
    }
   ],
   "source": [
    "def is_odd(x):\n",
    "    return x%2 == True\n",
    "list(filter(is_odd,num))"
   ]
  },
  {
   "cell_type": "code",
   "execution_count": 4,
   "metadata": {},
   "outputs": [
    {
     "data": {
      "text/plain": [
       "[3, 7, 1, 9, 5]"
      ]
     },
     "execution_count": 4,
     "metadata": {},
     "output_type": "execute_result"
    }
   ],
   "source": [
    "#лямбда выражение\n",
    "list(filter(lambda x: x%2== True,num))"
   ]
  },
  {
   "cell_type": "code",
   "execution_count": 5,
   "metadata": {},
   "outputs": [
    {
     "data": {
      "text/plain": [
       "[100, 9, 49, 1, 81, 16, 4, 64, 25, 36]"
      ]
     },
     "execution_count": 5,
     "metadata": {},
     "output_type": "execute_result"
    }
   ],
   "source": [
    "list(map(lambda x: x**2, num))"
   ]
  },
  {
   "cell_type": "code",
   "execution_count": 6,
   "metadata": {},
   "outputs": [
    {
     "data": {
      "text/plain": [
       "[27, 343, 1, 729, 125]"
      ]
     },
     "execution_count": 6,
     "metadata": {},
     "output_type": "execute_result"
    }
   ],
   "source": [
    "list(map(lambda x: x**(3),\n",
    "    filter(lambda x: x%2 == True,num)))"
   ]
  },
  {
   "cell_type": "markdown",
   "metadata": {},
   "source": [
    "num"
   ]
  },
  {
   "cell_type": "code",
   "execution_count": 7,
   "metadata": {},
   "outputs": [
    {
     "data": {
      "text/plain": [
       "[10, 3, 7, 1, 9, 4, 2, 8, 5, 6]"
      ]
     },
     "execution_count": 7,
     "metadata": {},
     "output_type": "execute_result"
    }
   ],
   "source": []
  },
  {
   "cell_type": "code",
   "execution_count": 8,
   "metadata": {},
   "outputs": [
    {
     "data": {
      "text/plain": [
       "[36, 25, 64, 4, 16, 81, 1, 49, 9, 100]"
      ]
     },
     "execution_count": 8,
     "metadata": {},
     "output_type": "execute_result"
    }
   ],
   "source": [
    "reversed_num = [i**2 for i in reversed(num)]\n",
    "reversed_num"
   ]
  },
  {
   "cell_type": "code",
   "execution_count": 10,
   "metadata": {},
   "outputs": [
    {
     "name": "stdout",
     "output_type": "stream",
     "text": [
      "Name=Bob;  CPA=99\n",
      "Name=Rob;  CPA=12\n",
      "Name=Bill;  CPA=75\n"
     ]
    }
   ],
   "source": [
    "name = [\"Bob\",\"Rob\",\"Bill\"]\n",
    "grades = [99,12,75]\n",
    "for name,grade in zip(name,grades):\n",
    "    print(f'Name={name};  CPA={grade}')"
   ]
  },
  {
   "cell_type": "code",
   "execution_count": 12,
   "metadata": {},
   "outputs": [
    {
     "name": "stdout",
     "output_type": "stream",
     "text": [
      "a[0][0]=1 a[0][1]=2 a[0][2]=3 \n",
      "a[1][0]=4 a[1][1]=5 a[1][2]=6 \n",
      "a[2][0]=7 a[2][1]=8 a[2][2]=9 \n"
     ]
    }
   ],
   "source": [
    "a = [[1,2,3],[4,5,6],[7,8,9]]\n",
    "for i, row in enumerate(a):\n",
    "    for j, iteam in enumerate(row):\n",
    "        print(f'a[{i}][{j}]={iteam}',end=\" \" )\n",
    "    print()"
   ]
  },
  {
   "cell_type": "code",
   "execution_count": 5,
   "metadata": {},
   "outputs": [
    {
     "data": {
      "image/png": "[encoded data removed]",
      "text/plain": [
       "<Figure size 432x288 with 1 Axes>"
      ]
     },
     "metadata": {},
     "output_type": "display_data"
    }
   ],
   "source": [
    "import matplotlib.pyplot as plt\n",
    "import numpy as np\n",
    "import random\n",
    "import seaborn as sns\n",
    "rolls = [random.randrange(1,7) for i in range(600)]\n",
    "values, frequencies = np.unique(rolls,return_counts=True)\n",
    "\n",
    "title = f'{len(rolls):,} бросков шестигранного кубика' # заголовок для диаграммы\n",
    "sns.set_style('whitegrid') # установливаем стиль для фона\n",
    "axes = sns.barplot(x=values, y=frequencies, palette='GnBu_d')# cоздаем обЪект mpl для построения диаграммы\n",
    "axes.set_title(title) # устанавливаем заголовок\n",
    "axes.set(xlabel=\"Стороны кубика\", ylabel=\"Число бросков\") # делаем подписи для осей\n",
    "axes.set_ylim(top=max(frequencies)*1.20) # масштабируем ось y на 10% для текста над стобиками\n",
    "for bar,frequency in  zip(axes.patches,frequencies): # распаковывет в bar и frequency  кортеж со стобликом и его частотой\n",
    "    text_x =bar.get_x()+bar.get_width()/2 # находим координату текста по горизонтали\n",
    "    text_y = bar.get_height() # находим координату текста по вертикали\n",
    "    text = f'{frequency}\\n{frequency/len(rolls):.3%}'\n",
    "    axes.text(text_x,text_y, text, fontsize =11, ha='center',va='bottom')\n"
   ]
  },
  {
   "cell_type": "code",
   "execution_count": 6,
   "metadata": {},
   "outputs": [],
   "source": [
    "%recall 5"
   ]
  },
  {
   "cell_type": "code",
   "execution_count": 9,
   "metadata": {},
   "outputs": [
    {
     "name": "stdout",
     "output_type": "stream",
     "text": [
      "'' was not found in history, as a file, url, nor in the user namespace.\n"
     ]
    },
    {
     "data": {
      "image/png": "[encoded data removed]",
      "text/plain": [
       "<Figure size 432x288 with 1 Axes>"
      ]
     },
     "metadata": {},
     "output_type": "display_data"
    }
   ],
   "source": [
    "import matplotlib.pyplot as plt\n",
    "import numpy as np\n",
    "import random\n",
    "import seaborn as sns\n",
    "rolls = [random.randrange(1,7) for i in range(600000)]\n",
    "values, frequencies = np.unique(rolls,return_counts=True)\n",
    "\n",
    "title = f'{len(rolls):,} бросков шестигранного кубика' # заголовок для диаграммы\n",
    "sns.set_style('whitegrid') # установливаем стиль для фона\n",
    "axes = sns.barplot(x=values, y=frequencies, palette='GnBu_d')# cоздаем обЪект mpl для построения диаграммы\n",
    "axes.set_title(title) # устанавливаем заголовок\n",
    "axes.set(xlabel=\"Стороны кубика\", ylabel=\"Число бросков\") # делаем подписи для осей\n",
    "axes.set_ylim(top=max(frequencies)*1.20) # масштабируем ось y на 10% для текста над стобиками\n",
    "for bar,frequency in  zip(axes.patches,frequencies): # распаковывет в bar и frequency  кортеж со стобликом и его частотой\n",
    "    text_x =bar.get_x()+bar.get_width()/2 # находим координату текста по горизонтали\n",
    "    text_y = bar.get_height() # находим координату текста по вертикали\n",
    "    text = f'{frequency}\\n{frequency/len(rolls):.3%}'\n",
    "    axes.text(text_x,text_y, text, fontsize =11, ha='center',va='bottom')\n"
   ]
  },
  {
   "cell_type": "code",
   "execution_count": null,
   "metadata": {},
   "outputs": [],
   "source": []
  }
 ],
 "metadata": {
  "kernelspec": {
   "display_name": "Python 3",
   "language": "python",
   "name": "python3"
  },
  "language_info": {
   "codemirror_mode": {
    "name": "ipython",
    "version": 3
   },
   "file_extension": ".py",
   "mimetype": "text/x-python",
   "name": "python",
   "nbconvert_exporter": "python",
   "pygments_lexer": "ipython3",
   "version": "3.8.3"
  }
 },
 "nbformat": 4,
 "nbformat_minor": 4
}
