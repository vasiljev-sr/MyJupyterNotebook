{
 "cells": [
  {
   "cell_type": "code",
   "execution_count": 3,
   "metadata": {},
   "outputs": [],
   "source": [
    "import pandas as pd\n",
    "import numpy as np\n",
    "from datetime import datetime as dt\n",
    "from datetime import date, timedelta"
   ]
  },
  {
   "cell_type": "code",
   "execution_count": null,
   "metadata": {},
   "outputs": [],
   "source": [
    "df = "
   ]
  },
  {
   "cell_type": "code",
   "execution_count": 8,
   "metadata": {},
   "outputs": [
    {
     "ename": "NameError",
     "evalue": "name 'df' is not defined",
     "output_type": "error",
     "traceback": [
      "\u001b[1;31m---------------------------------------------------------------------------\u001b[0m",
      "\u001b[1;31mNameError\u001b[0m                                 Traceback (most recent call last)",
      "\u001b[1;32m<ipython-input-8-5d5ac7c46df8>\u001b[0m in \u001b[0;36m<module>\u001b[1;34m\u001b[0m\n\u001b[1;32m----> 1\u001b[1;33m \u001b[0mdf\u001b[0m\u001b[1;33m[\u001b[0m\u001b[1;34m'date'\u001b[0m\u001b[1;33m]\u001b[0m \u001b[1;33m=\u001b[0m \u001b[0mpd\u001b[0m\u001b[1;33m.\u001b[0m\u001b[0mto_datetime\u001b[0m\u001b[1;33m(\u001b[0m\u001b[0mdf\u001b[0m\u001b[1;33m.\u001b[0m\u001b[0mtimestamp\u001b[0m\u001b[1;33m,\u001b[0m \u001b[0munit\u001b[0m\u001b[1;33m=\u001b[0m\u001b[1;34m's'\u001b[0m\u001b[1;33m)\u001b[0m\u001b[1;33m\u001b[0m\u001b[1;33m\u001b[0m\u001b[0m\n\u001b[0m",
      "\u001b[1;31mNameError\u001b[0m: name 'df' is not defined"
     ]
    }
   ],
   "source": [
    "df['date'] = pd.to_datetime(df.timestamp, unit='s')"
   ]
  },
  {
   "cell_type": "code",
   "execution_count": null,
   "metadata": {},
   "outputs": [],
   "source": [
    "df1 = df['date']"
   ]
  },
  {
   "cell_type": "code",
   "execution_count": null,
   "metadata": {},
   "outputs": [],
   "source": [
    "df1 = df1.to_frame()"
   ]
  },
  {
   "cell_type": "code",
   "execution_count": null,
   "metadata": {},
   "outputs": [],
   "source": [
    "df1['time'] = df1.date.dt.time"
   ]
  },
  {
   "cell_type": "code",
   "execution_count": null,
   "metadata": {},
   "outputs": [],
   "source": [
    "df1 = df1.sort_values(by='date',ascending=True)"
   ]
  },
  {
   "cell_type": "code",
   "execution_count": null,
   "metadata": {},
   "outputs": [],
   "source": [
    "df1.to_csv('2machine')"
   ]
  },
  {
   "cell_type": "code",
   "execution_count": null,
   "metadata": {},
   "outputs": [],
   "source": [
    "df1['ts'] = df1.date.values.astype(np.int64) // 10 ** 9`"
   ]
  },
  {
   "cell_type": "code",
   "execution_count": null,
   "metadata": {},
   "outputs": [],
   "source": [
    "df1 = df1.sort_values(by='ts',ascending=True)"
   ]
  },
  {
   "cell_type": "code",
   "execution_count": null,
   "metadata": {},
   "outputs": [],
   "source": [
    "df2 = pd.DataFrame(np.diff(df1.ts), columns=['time_diff'])"
   ]
  },
  {
   "cell_type": "code",
   "execution_count": null,
   "metadata": {},
   "outputs": [],
   "source": [
    "down_time = df2.query('time_diff > 5000').time_diff.sum()"
   ]
  },
  {
   "cell_type": "code",
   "execution_count": null,
   "metadata": {},
   "outputs": [],
   "source": [
    "total_time = df2.time_diff.sum()"
   ]
  },
  {
   "cell_type": "code",
   "execution_count": 5,
   "metadata": {},
   "outputs": [
    {
     "ename": "NameError",
     "evalue": "name 'total_time' is not defined",
     "output_type": "error",
     "traceback": [
      "\u001b[1;31m---------------------------------------------------------------------------\u001b[0m",
      "\u001b[1;31mNameError\u001b[0m                                 Traceback (most recent call last)",
      "\u001b[1;32m<ipython-input-5-5b42d3a33c77>\u001b[0m in \u001b[0;36m<module>\u001b[1;34m\u001b[0m\n\u001b[1;32m----> 1\u001b[1;33m \u001b[0mwork_time\u001b[0m \u001b[1;33m=\u001b[0m \u001b[0mtotal_time\u001b[0m \u001b[1;33m-\u001b[0m \u001b[0mdown_time\u001b[0m\u001b[1;33m\u001b[0m\u001b[1;33m\u001b[0m\u001b[0m\n\u001b[0m",
      "\u001b[1;31mNameError\u001b[0m: name 'total_time' is not defined"
     ]
    }
   ],
   "source": [
    "work_time = total_time - down_time"
   ]
  },
  {
   "cell_type": "code",
   "execution_count": null,
   "metadata": {},
   "outputs": [],
   "source": [
    "downtime"
   ]
  },
  {
   "cell_type": "code",
   "execution_count": null,
   "metadata": {},
   "outputs": [],
   "source": [
    "dff = pd.DataFrame([down_time,total_time], index=['Время простоя','Время работы'], columns=['секунды'])"
   ]
  },
  {
   "cell_type": "code",
   "execution_count": null,
   "metadata": {},
   "outputs": [],
   "source": [
    "dff"
   ]
  },
  {
   "cell_type": "code",
   "execution_count": 7,
   "metadata": {},
   "outputs": [
    {
     "ename": "NameError",
     "evalue": "name 'dff' is not defined",
     "output_type": "error",
     "traceback": [
      "\u001b[1;31m---------------------------------------------------------------------------\u001b[0m",
      "\u001b[1;31mNameError\u001b[0m                                 Traceback (most recent call last)",
      "\u001b[1;32m<ipython-input-7-1b4f0d11c5fa>\u001b[0m in \u001b[0;36m<module>\u001b[1;34m\u001b[0m\n\u001b[0;32m      2\u001b[0m \u001b[0mmpl\u001b[0m\u001b[1;33m.\u001b[0m\u001b[0mrcParams\u001b[0m\u001b[1;33m[\u001b[0m\u001b[1;34m'font.size'\u001b[0m\u001b[1;33m]\u001b[0m \u001b[1;33m=\u001b[0m \u001b[1;36m14.0\u001b[0m\u001b[1;33m\u001b[0m\u001b[1;33m\u001b[0m\u001b[0m\n\u001b[0;32m      3\u001b[0m \u001b[1;33m\u001b[0m\u001b[0m\n\u001b[1;32m----> 4\u001b[1;33m dff.plot.pie(y='секунды', figsize = (8,8),\n\u001b[0m\u001b[0;32m      5\u001b[0m              \u001b[0mexplode\u001b[0m \u001b[1;33m=\u001b[0m \u001b[1;33m(\u001b[0m\u001b[1;36m0\u001b[0m\u001b[1;33m,\u001b[0m \u001b[1;36m0.03\u001b[0m\u001b[1;33m)\u001b[0m\u001b[1;33m,\u001b[0m\u001b[1;33m\u001b[0m\u001b[1;33m\u001b[0m\u001b[0m\n\u001b[0;32m      6\u001b[0m              \u001b[0mautopct\u001b[0m\u001b[1;33m=\u001b[0m\u001b[1;34m'%1.1f%%'\u001b[0m\u001b[1;33m,\u001b[0m\u001b[1;33m\u001b[0m\u001b[1;33m\u001b[0m\u001b[0m\n",
      "\u001b[1;31mNameError\u001b[0m: name 'dff' is not defined"
     ]
    }
   ],
   "source": [
    "import matplotlib as mpl\n",
    "mpl.rcParams['font.size'] = 14.0\n",
    "\n",
    "dff.plot.pie(y='секунды', figsize = (8,8),\n",
    "             explode = (0, 0.03),\n",
    "             autopct='%1.1f%%',\n",
    "             colors=('tomato','dimgray'),\n",
    "             labels= None,\n",
    "             startangle=90,\n",
    "             textprops={'color':\"w\"},\n",
    "             ylabel = '')\n"
   ]
  },
  {
   "cell_type": "code",
   "execution_count": 6,
   "metadata": {},
   "outputs": [
    {
     "ename": "NameError",
     "evalue": "name 'dff' is not defined",
     "output_type": "error",
     "traceback": [
      "\u001b[1;31m---------------------------------------------------------------------------\u001b[0m",
      "\u001b[1;31mNameError\u001b[0m                                 Traceback (most recent call last)",
      "\u001b[1;32m<ipython-input-6-3fb1f418880d>\u001b[0m in \u001b[0;36m<module>\u001b[1;34m\u001b[0m\n\u001b[0;32m     10\u001b[0m \u001b[1;33m\u001b[0m\u001b[0m\n\u001b[0;32m     11\u001b[0m \u001b[0mfig1\u001b[0m\u001b[1;33m,\u001b[0m \u001b[0max1\u001b[0m \u001b[1;33m=\u001b[0m \u001b[0mplt\u001b[0m\u001b[1;33m.\u001b[0m\u001b[0msubplots\u001b[0m\u001b[1;33m(\u001b[0m\u001b[1;33m)\u001b[0m\u001b[1;33m\u001b[0m\u001b[1;33m\u001b[0m\u001b[0m\n\u001b[1;32m---> 12\u001b[1;33m ax1.pie(dff[0], labels=dff.index,\n\u001b[0m\u001b[0;32m     13\u001b[0m              \u001b[0mexplode\u001b[0m \u001b[1;33m=\u001b[0m \u001b[1;33m(\u001b[0m\u001b[1;36m0\u001b[0m\u001b[1;33m,\u001b[0m \u001b[1;36m0.05\u001b[0m\u001b[1;33m)\u001b[0m\u001b[1;33m,\u001b[0m\u001b[1;33m\u001b[0m\u001b[1;33m\u001b[0m\u001b[0m\n\u001b[0;32m     14\u001b[0m              \u001b[0mautopct\u001b[0m\u001b[1;33m=\u001b[0m\u001b[1;34m'%1.1f%%'\u001b[0m\u001b[1;33m,\u001b[0m\u001b[1;33m\u001b[0m\u001b[1;33m\u001b[0m\u001b[0m\n",
      "\u001b[1;31mNameError\u001b[0m: name 'dff' is not defined"
     ]
    },
    {
     "data": {
      "image/png": "[encoded data removed]",
      "text/plain": [
       "<Figure size 432x288 with 1 Axes>"
      ]
     },
     "metadata": {
      "needs_background": "light"
     },
     "output_type": "display_data"
    }
   ],
   "source": [
    "import matplotlib.pyplot as plt\n",
    "import matplotlib as mpl\n",
    "mpl.rcParams['font.size'] = 14.0\n",
    "\n",
    "# Pie chart, where the slices will be ordered and plotted counter-clockwise:\n",
    "labels = 'Frogs', 'Hogs'\n",
    "sizes = [15, 30]\n",
    "explode = (0, 0.1, 0, 0)  # only \"explode\" the 2nd slice (i.e. 'Hogs')\n",
    "\n",
    "\n",
    "fig1, ax1 = plt.subplots()\n",
    "ax1.pie(dff[0], labels=dff.index,\n",
    "             explode = (0, 0.05),\n",
    "             autopct='%1.1f%%',\n",
    "             colors=('tomato','dimgray'),\n",
    "             startangle=90)\n",
    "_, _,autotexts = ax1.pie(dff[0], labels=dff.index,\n",
    "             explode = (0, 0.05),\n",
    "             autopct='%1.1f%%',\n",
    "             colors=('tomato','dimgray'),\n",
    "             startangle=90)\n",
    "for autotext in autotexts:\n",
    "    autotext.set_color('white')\n",
    "\n",
    "plt.show()"
   ]
  },
  {
   "cell_type": "code",
   "execution_count": null,
   "metadata": {},
   "outputs": [],
   "source": [
    "down_time/work_time * 100"
   ]
  },
  {
   "cell_type": "code",
   "execution_count": null,
   "metadata": {},
   "outputs": [],
   "source": [
    "last_day = dt.today().replace(day=1) - timedelta(days=1)"
   ]
  },
  {
   "cell_type": "code",
   "execution_count": null,
   "metadata": {},
   "outputs": [],
   "source": [
    "start_day =  date.today().replace(day=1) - timedelta(days=last_day.day)"
   ]
  },
  {
   "cell_type": "code",
   "execution_count": null,
   "metadata": {},
   "outputs": [],
   "source": [
    "start_day"
   ]
  },
  {
   "cell_type": "code",
   "execution_count": null,
   "metadata": {},
   "outputs": [],
   "source": [
    "date.today().replace(day=1)"
   ]
  },
  {
   "cell_type": "code",
   "execution_count": null,
   "metadata": {},
   "outputs": [],
   "source": [
    "timedelta(days=1)"
   ]
  },
  {
   "cell_type": "code",
   "execution_count": null,
   "metadata": {},
   "outputs": [],
   "source": [
    "timedelta(days=last_day.day)"
   ]
  },
  {
   "cell_type": "code",
   "execution_count": null,
   "metadata": {},
   "outputs": [],
   "source": [
    "last_day"
   ]
  },
  {
   "cell_type": "code",
   "execution_count": null,
   "metadata": {},
   "outputs": [],
   "source": [
    "date.fromtimestamp()"
   ]
  },
  {
   "cell_type": "code",
   "execution_count": null,
   "metadata": {},
   "outputs": [],
   "source": [
    "date.today().replace(day=1)"
   ]
  },
  {
   "cell_type": "code",
   "execution_count": null,
   "metadata": {},
   "outputs": [],
   "source": [
    "str(start_day)"
   ]
  },
  {
   "cell_type": "code",
   "execution_count": 3,
   "metadata": {},
   "outputs": [],
   "source": [
    "# import pandas as pd\n",
    "# import numpy as np\n",
    "# from datetime import datetime as dt\n",
    "# from datetime import date, timedelta\n",
    "# import mysql.connector\n",
    "# from mysql.connector import Error\n",
    "# import matplotlib as mpl\n",
    "# mpl.rcParams['font.size'] = 12.0\n",
    "\n",
    "# class Machine_stats:\n",
    "    \n",
    "#     def __init__(self):\n",
    "#         self.machines_id = {1:'11010401', 2:'11030401', 4:'12040401', 5:'12060401', 6:'13070401'}\n",
    "#         self.prev_month_last_day = date.today().replace(day=1) - timedelta(days=1)\n",
    "#         self.prev_month_start_day =  date.today().replace(day=1) - timedelta(days=last_day.day)\n",
    "#         self.today =  date.today()\n",
    "#         self.curr_month_start_day = date.today().replace(day=1)\n",
    "        \n",
    "        \n",
    "#     def read_database(self, date_in, date_out, id_num=1): \n",
    "#         conn = mysql.connector.connect(host='172.15.0.225',\n",
    "#                                        database='dispall_cbk',\n",
    "#                                        user='reader',\n",
    "#                                        password='12341234')\n",
    "        \n",
    "#         query='''SELECT date_in\n",
    "#                  FROM ustr\n",
    "#                  WHERE id= {id} and znach>0 and\n",
    "#                  date_in BETWEEN  \"{datein}\" and \"{dateout}\" '''.format(datein=date_in,\n",
    "#                                        dateout= date_out,\n",
    "#                                        id= self.machines_id[id_num])\n",
    "#         df = pd.read_sql_query(query,conn)\n",
    "#         df = df.rename(columns={'date_in' : 'date'})\n",
    "#         conn.close()\n",
    "#         return df\n",
    "    \n",
    "    \n",
    "#     def find_diff(self,df):\n",
    "#         df['ts'] = df.date.values.astype(np.int64) // 10 ** 9\n",
    "#         df_diff = pd.DataFrame(np.diff(df.ts), columns=['time_diff'])\n",
    "#         return df_diff\n",
    "    \n",
    "#     def prev_mon_pie_plot(self, id_num=1, time=300):\n",
    "#         day_in = str(self.prev_month_start_day) + '00:00:00'\n",
    "#         day_out = str(self.prev_month_last_day) + ' 23:59:59'\n",
    "#         df = self.find_diff(self.read_database(day_in, day_out, id_num)) \n",
    "        \n",
    "#         down_time = df.query('time_diff > @time').time_diff.sum() # время простоя\n",
    "#         total_time = df.time_diff.sum() # общее время\n",
    "#         work_time = total_time - down_time # время работы\n",
    "        \n",
    "#         plot_df = pd.DataFrame([down_time,total_time], index=['Время простоя','Время работы'], columns=['секунды'])\n",
    "        \n",
    "#         plot_df.plot.pie(y='секунды', figsize = (8,8),\n",
    "#              explode = (0, 0.03),\n",
    "#              autopct='%1.1f%%',\n",
    "#              colors=('tomato','dimgray'),\n",
    "#              labels= None,\n",
    "#              startangle=90,\n",
    "#              textprops={'color':\"w\"},\n",
    "#              ylabel = '')\n",
    "#         return f'Простой {down_time} работа {work_time}, общее время {total_time}'\n",
    "        \n",
    "#     def curr_mon_pie_plot(self, id_num=1, time=300):\n",
    "#         day_in = str(self.curr_month_start_day)\n",
    "#         day_out = str(self.today) + ' 23:59:59'\n",
    "#         df = self.find_diff(self.read_database(day_in, day_out, id_num)) \n",
    "        \n",
    "#         down_time = df.query('time_diff > @time').time_diff.sum() # время простоя\n",
    "#         total_time = df.time_diff.sum() # общее время\n",
    "#         work_time = total_time - down_time # время работы\n",
    "        \n",
    "#         plot_df = pd.DataFrame([down_time,work_time], index=['Время простоя','Время работы'], columns=['секунды'])\n",
    "        \n",
    "#         plot_df.plot.pie(y='секунды', figsize = (8,8),\n",
    "#              explode = (0, 0.03),\n",
    "#              autopct='%1.1f%%',\n",
    "#              colors=('tomato','dimgray'),\n",
    "#              labels= None,\n",
    "#              startangle=90,\n",
    "#              textprops={'color':\"w\"},\n",
    "#              ylabel = '')\n",
    "        \n",
    "#         return f'Простой {down_time} работа {work_time}, общее время {total_time}'\n",
    "    \n",
    "#     def pie_plot(self,day_in, day_out, id_num=1, time=300):\n",
    "\n",
    "#         df = self.find_diff(self.read_database(day_in, day_out, id_num)) \n",
    "        \n",
    "#         down_time = df.query('time_diff > @time').time_diff.sum() # время простоя\n",
    "#         total_time = df.time_diff.sum() # общее время\n",
    "#         work_time = total_time - down_time # время работы\n",
    "        \n",
    "#         plot_df = pd.DataFrame([down_time,work_time], index=['Время простоя','Время работы'], columns=['секунды'])\n",
    "        \n",
    "#         plot_df.plot.pie(y='секунды', figsize = (8,8),\n",
    "#              explode = (0, 0.03),\n",
    "#              autopct='%1.1f%%',\n",
    "#              colors=('tomato','dimgray'),\n",
    "#              labels= None,\n",
    "#              startangle=90,\n",
    "#              textprops={'color':\"w\"},\n",
    "#              ylabel = '')\n",
    "        \n",
    "#         return f'Простой {down_time} работа {work_time}, общее время {total_time}'"
   ]
  },
  {
   "cell_type": "code",
   "execution_count": null,
   "metadata": {},
   "outputs": [],
   "source": [
    "'''SELECT date_in, znach\\\n",
    "   FROM ustr\\\n",
    "   WHERE date_in > {datein} and date_in < {dateout} and id={id} and znach>0'''.format(datein=str(start_day) + ' 23:59:59',\n",
    "                                                                                     dateout= str(start_day) + ' 23:59:59',\n",
    "                                                                                     id= '121212')"
   ]
  },
  {
   "cell_type": "code",
   "execution_count": null,
   "metadata": {},
   "outputs": [],
   "source": [
    " date.today()"
   ]
  },
  {
   "cell_type": "code",
   "execution_count": 4,
   "metadata": {},
   "outputs": [
    {
     "ename": "NameError",
     "evalue": "name 'last_day' is not defined",
     "output_type": "error",
     "traceback": [
      "\u001b[1;31m---------------------------------------------------------------------------\u001b[0m",
      "\u001b[1;31mNameError\u001b[0m                                 Traceback (most recent call last)",
      "\u001b[1;32m<ipython-input-4-40e33c0c3cc1>\u001b[0m in \u001b[0;36m<module>\u001b[1;34m\u001b[0m\n\u001b[1;32m----> 1\u001b[1;33m \u001b[0mb\u001b[0m \u001b[1;33m=\u001b[0m \u001b[0mMachine_stats\u001b[0m\u001b[1;33m(\u001b[0m\u001b[1;33m)\u001b[0m\u001b[1;33m\u001b[0m\u001b[1;33m\u001b[0m\u001b[0m\n\u001b[0m",
      "\u001b[1;32m<ipython-input-3-87a289f077b3>\u001b[0m in \u001b[0;36m__init__\u001b[1;34m(self)\u001b[0m\n\u001b[0;32m     13\u001b[0m         \u001b[0mself\u001b[0m\u001b[1;33m.\u001b[0m\u001b[0mmachines_id\u001b[0m \u001b[1;33m=\u001b[0m \u001b[1;33m{\u001b[0m\u001b[1;36m1\u001b[0m\u001b[1;33m:\u001b[0m\u001b[1;34m'11010401'\u001b[0m\u001b[1;33m,\u001b[0m \u001b[1;36m2\u001b[0m\u001b[1;33m:\u001b[0m\u001b[1;34m'11030401'\u001b[0m\u001b[1;33m,\u001b[0m \u001b[1;36m4\u001b[0m\u001b[1;33m:\u001b[0m\u001b[1;34m'12040401'\u001b[0m\u001b[1;33m,\u001b[0m \u001b[1;36m5\u001b[0m\u001b[1;33m:\u001b[0m\u001b[1;34m'12060401'\u001b[0m\u001b[1;33m,\u001b[0m \u001b[1;36m6\u001b[0m\u001b[1;33m:\u001b[0m\u001b[1;34m'13070401'\u001b[0m\u001b[1;33m}\u001b[0m\u001b[1;33m\u001b[0m\u001b[1;33m\u001b[0m\u001b[0m\n\u001b[0;32m     14\u001b[0m         \u001b[0mself\u001b[0m\u001b[1;33m.\u001b[0m\u001b[0mprev_month_last_day\u001b[0m \u001b[1;33m=\u001b[0m \u001b[0mdate\u001b[0m\u001b[1;33m.\u001b[0m\u001b[0mtoday\u001b[0m\u001b[1;33m(\u001b[0m\u001b[1;33m)\u001b[0m\u001b[1;33m.\u001b[0m\u001b[0mreplace\u001b[0m\u001b[1;33m(\u001b[0m\u001b[0mday\u001b[0m\u001b[1;33m=\u001b[0m\u001b[1;36m1\u001b[0m\u001b[1;33m)\u001b[0m \u001b[1;33m-\u001b[0m \u001b[0mtimedelta\u001b[0m\u001b[1;33m(\u001b[0m\u001b[0mdays\u001b[0m\u001b[1;33m=\u001b[0m\u001b[1;36m1\u001b[0m\u001b[1;33m)\u001b[0m\u001b[1;33m\u001b[0m\u001b[1;33m\u001b[0m\u001b[0m\n\u001b[1;32m---> 15\u001b[1;33m         \u001b[0mself\u001b[0m\u001b[1;33m.\u001b[0m\u001b[0mprev_month_start_day\u001b[0m \u001b[1;33m=\u001b[0m  \u001b[0mdate\u001b[0m\u001b[1;33m.\u001b[0m\u001b[0mtoday\u001b[0m\u001b[1;33m(\u001b[0m\u001b[1;33m)\u001b[0m\u001b[1;33m.\u001b[0m\u001b[0mreplace\u001b[0m\u001b[1;33m(\u001b[0m\u001b[0mday\u001b[0m\u001b[1;33m=\u001b[0m\u001b[1;36m1\u001b[0m\u001b[1;33m)\u001b[0m \u001b[1;33m-\u001b[0m \u001b[0mtimedelta\u001b[0m\u001b[1;33m(\u001b[0m\u001b[0mdays\u001b[0m\u001b[1;33m=\u001b[0m\u001b[0mlast_day\u001b[0m\u001b[1;33m.\u001b[0m\u001b[0mday\u001b[0m\u001b[1;33m)\u001b[0m\u001b[1;33m\u001b[0m\u001b[1;33m\u001b[0m\u001b[0m\n\u001b[0m\u001b[0;32m     16\u001b[0m         \u001b[0mself\u001b[0m\u001b[1;33m.\u001b[0m\u001b[0mtoday\u001b[0m \u001b[1;33m=\u001b[0m  \u001b[0mdate\u001b[0m\u001b[1;33m.\u001b[0m\u001b[0mtoday\u001b[0m\u001b[1;33m(\u001b[0m\u001b[1;33m)\u001b[0m\u001b[1;33m\u001b[0m\u001b[1;33m\u001b[0m\u001b[0m\n\u001b[0;32m     17\u001b[0m         \u001b[0mself\u001b[0m\u001b[1;33m.\u001b[0m\u001b[0mcurr_month_start_day\u001b[0m \u001b[1;33m=\u001b[0m \u001b[0mdate\u001b[0m\u001b[1;33m.\u001b[0m\u001b[0mtoday\u001b[0m\u001b[1;33m(\u001b[0m\u001b[1;33m)\u001b[0m\u001b[1;33m.\u001b[0m\u001b[0mreplace\u001b[0m\u001b[1;33m(\u001b[0m\u001b[0mday\u001b[0m\u001b[1;33m=\u001b[0m\u001b[1;36m1\u001b[0m\u001b[1;33m)\u001b[0m\u001b[1;33m\u001b[0m\u001b[1;33m\u001b[0m\u001b[0m\n",
      "\u001b[1;31mNameError\u001b[0m: name 'last_day' is not defined"
     ]
    }
   ],
   "source": [
    "b = Machine_stats()"
   ]
  },
  {
   "cell_type": "code",
   "execution_count": null,
   "metadata": {},
   "outputs": [],
   "source": [
    "s1 = str(b.today) + ' 00:00:00'\n",
    "s2 = str(b.today) + ' 23:59:59'"
   ]
  },
  {
   "cell_type": "code",
   "execution_count": null,
   "metadata": {},
   "outputs": [],
   "source": [
    "s1"
   ]
  },
  {
   "cell_type": "code",
   "execution_count": null,
   "metadata": {},
   "outputs": [],
   "source": [
    "b.pie_plot(s1,s2)"
   ]
  },
  {
   "cell_type": "code",
   "execution_count": null,
   "metadata": {},
   "outputs": [],
   "source": [
    "df = b.read_database(s1,s2)\n",
    "df['ts'] = df.date.values.astype(np.int64) // 10 ** 9\n",
    "df_diff = pd.DataFrame(np.diff(df.ts), columns=['time_diff'])\n",
    "df_diff"
   ]
  },
  {
   "cell_type": "code",
   "execution_count": null,
   "metadata": {},
   "outputs": [],
   "source": [
    "df"
   ]
  },
  {
   "cell_type": "code",
   "execution_count": null,
   "metadata": {},
   "outputs": [],
   "source": [
    "b.curr_mon_pie_plot()"
   ]
  },
  {
   "cell_type": "code",
   "execution_count": null,
   "metadata": {},
   "outputs": [],
   "source": [
    "df1 = b.find_diff(df)"
   ]
  },
  {
   "cell_type": "code",
   "execution_count": null,
   "metadata": {},
   "outputs": [],
   "source": [
    "df1"
   ]
  },
  {
   "cell_type": "code",
   "execution_count": null,
   "metadata": {},
   "outputs": [],
   "source": [
    "str(b.prev_month_last_day)"
   ]
  },
  {
   "cell_type": "code",
   "execution_count": null,
   "metadata": {},
   "outputs": [],
   "source": [
    "b.prev_month_start_day"
   ]
  },
  {
   "cell_type": "code",
   "execution_count": null,
   "metadata": {},
   "outputs": [],
   "source": [
    "b.today"
   ]
  },
  {
   "cell_type": "code",
   "execution_count": null,
   "metadata": {},
   "outputs": [],
   "source": [
    "b.curr_month_start_day"
   ]
  },
  {
   "cell_type": "code",
   "execution_count": null,
   "metadata": {},
   "outputs": [],
   "source": [
    "a = b.pie_plot('2021-03-08 00:00:00','2021-03-08 23:59:59' )\n",
    "#a['ts'] = a.date.values.astype(np.int64) // 10 ** 9\n",
    "#a    "
   ]
  },
  {
   "cell_type": "code",
   "execution_count": null,
   "metadata": {},
   "outputs": [],
   "source": [
    "aa = b.find_diff(a)\n",
    "aa"
   ]
  },
  {
   "cell_type": "code",
   "execution_count": null,
   "metadata": {},
   "outputs": [],
   "source": [
    "1615300359 - 1615161609 == aa.time_diff.sum()"
   ]
  },
  {
   "cell_type": "code",
   "execution_count": 154,
   "metadata": {},
   "outputs": [
    {
     "data": {
      "text/plain": [
       "(-2.2173217184429803,\n",
       " 2.301343155005682,\n",
       " -2.2148799724242894,\n",
       " 2.2132044380619837)"
      ]
     },
     "execution_count": 154,
     "metadata": {},
     "output_type": "execute_result"
    },
    {
     "data": {
      "image/png": "[encoded data removed]",
      "text/plain": [
       "<Figure size 432x288 with 1 Axes>"
      ]
     },
     "metadata": {},
     "output_type": "display_data"
    }
   ],
   "source": [
    "plt.rcParams['figure.facecolor'] = '#262a2f' \n",
    "plt.rcParams['legend.frameon'] = 'False'\n",
    "\n",
    "vals = [10000, 100000]\n",
    "labels = ['Время простоя', 'Время работы']\n",
    "explode = (0.1, 0)\n",
    "fig, ax = plt.subplots()\n",
    "\n",
    "ax.pie(vals, labels=None, autopct='%1.1f%%', shadow=False,\n",
    "explode=explode,\n",
    "rotatelabels=True,\n",
    "colors = ('#ff5533','w'),\n",
    "pctdistance=0.7,\n",
    "textprops = dict(color =\"black\"),\n",
    "radius=2)\n",
    "ax.axis('equal')\n",
    "#plt.title('Грфик работы 1 машины за текущий месяц', fontsize=14, color='w', loc= )\n",
    "\n",
    "# legend = ax.legend(labels,\n",
    "#           loc =\"lower center\",\n",
    "#           bbox_to_anchor =(0.75, 0.04, 0.5, 1)) \n",
    "# plt.setp(legend.get_texts(), color='w')"
   ]
  },
  {
   "cell_type": "code",
   "execution_count": 1,
   "metadata": {},
   "outputs": [],
   "source": [
    "# plot_df.plot.pie(y='секунды', figsize=(8, 8),\n",
    "        #                  explode=(0, 0.03),\n",
    "        #                  autopct='%1.1f%%',\n",
    "        #                  colors=('tomato', 'dimgray'),\n",
    "        #                  labels=None,\n",
    "        #                  startangle=90,\n",
    "        #                  textprops={'color': \"w\"},\n",
    "        #                  ylabel='')"
   ]
  },
  {
   "cell_type": "code",
   "execution_count": 2,
   "metadata": {},
   "outputs": [],
   "source": [
    "\n",
    "        # fig, ax = plt.subplots(figsize= (3,3))\n",
    "        # fig.set_facecolor((0.12,0.13,0.15))\n",
    "        # ax.set_xlabel('', fontsize=10)\n",
    "        # ax.set_ylabel('', fontsize=10)\n",
    "        # ax.pie(plot_df['секунды'], labels=None,\n",
    "        #         explode=(0, 0.05),\n",
    "        #         autopct='%1.1f%%',\n",
    "        #         colors=('tomato', 'dimgray'),\n",
    "        #         startangle=90,\n",
    "        #         textprops={'color': \"w\"},\n",
    "        #         radius=1.5)"
   ]
  },
  {
   "cell_type": "code",
   "execution_count": 43,
   "metadata": {},
   "outputs": [],
   "source": [
    "import pandas as pd\n",
    "import numpy as np\n",
    "from datetime import datetime as dt\n",
    "from datetime import date, timedelta\n",
    "import mysql.connector\n",
    "from mysql.connector import Error\n",
    "import matplotlib as mpl\n",
    "import matplotlib.pyplot as plt\n",
    "\n",
    "mpl.rcParams['font.size'] = 12.0\n",
    "\n",
    "\n",
    "class MachineStatistics:\n",
    "\n",
    "    def __init__(self):\n",
    "        self.machines_id = {1: '11010401', 2: '11030401', 4: '12040401', 5: '12060401', 6: '13070401'}\n",
    "        self.today = date.today()\n",
    "        self.prev_month_last_day = self.today.replace(day=1) - timedelta(days=1)\n",
    "        self.prev_month_start_day = self.today.replace(day=1) - timedelta(days=self.prev_month_last_day.day)\n",
    "        self.curr_month_start_day = self.today.replace(day=1)\n",
    "\n",
    "    def read_database(self, date_in, date_out, id_num=1):\n",
    "        conn = mysql.connector.connect(host='172.15.0.225',\n",
    "                                       database='dispall_cbk',\n",
    "                                       user='reader',\n",
    "                                       password='12341234')\n",
    "\n",
    "        query = '''SELECT date_in\n",
    "                 FROM ustr\n",
    "                 WHERE id= {id} and znach>0 and\n",
    "                 date_in BETWEEN  \"{datein}\" and \"{dateout}\" '''.format(datein=date_in,\n",
    "                                                                        dateout=date_out,\n",
    "                                                                        id=self.machines_id[id_num])\n",
    "        df = pd.read_sql_query(query, conn)\n",
    "        df = df.rename(columns={'date_in': 'date'})\n",
    "        return df\n",
    "\n",
    "    def find_diff(self, df):\n",
    "        df['ts'] = df.date.values.astype(np.int64) // 10 ** 9\n",
    "        df_diff = pd.DataFrame(np.diff(df.ts), columns=['time_diff'])\n",
    "        return df_diff\n",
    "\n",
    "    def prev_mon_pie_plot(self, id_num=1, time=300):\n",
    "        day_in = str(self.prev_month_start_day) + ' 00:00:00'\n",
    "        day_out = str(self.prev_month_last_day) + ' 23:59:59'\n",
    "        df = self.find_diff(self.read_database(day_in, day_out, id_num))\n",
    "        \n",
    "        down_time = df.query('time_diff > @time').time_diff.sum()  # время простоя\n",
    "        total_time = df.time_diff.sum()  # общее время\n",
    "        work_time = total_time - down_time  # время работы\n",
    "        print(total_time)\n",
    "        plot_df = pd.DataFrame([down_time, work_time], index=['Время простоя', 'Время работы'], columns=['секунды'])\n",
    "        fig, ax = self.bild_plot(plot_df)\n",
    "        return fig, ax\n",
    "\n",
    "    def curr_mon_pie_plot(self, id_num=1, time=300):\n",
    "        day_in = str(self.curr_month_start_day) + ' 00:00:00'\n",
    "        day_out = str(self.today) + ' 23:59:59'\n",
    "        df = self.find_diff(self.read_database(day_in, day_out, id_num))\n",
    "\n",
    "        down_time = df.query('time_diff > @time').time_diff.sum()  # время простоя\n",
    "        total_time = df.time_diff.sum()  # общее время\n",
    "       \n",
    "        work_time = total_time - down_time  # время работы\n",
    "\n",
    "        plot_df = pd.DataFrame([down_time, work_time], index=['Время простоя', 'Время работы'], columns=['секунды'])\n",
    "        fig, ax = self.bild_plot(plot_df)\n",
    "        return fig, ax\n",
    "\n",
    "    def pie_plot(self, day_in, day_out, id_num=1, time=300):\n",
    "        df = self.find_diff(self.read_database(day_in, day_out, id_num))\n",
    "\n",
    "        down_time = df.query('time_diff > @time').time_diff.sum()  # время простоя\n",
    "        total_time = df.time_diff.sum()  # общее время\n",
    "        work_time = total_time - down_time  # время работы\n",
    "\n",
    "        plot_df = pd.DataFrame([down_time, work_time], index=['Время простоя', 'Время работы'], columns=['секунды'])\n",
    "        fig, ax = self.bild_plot(plot_df)\n",
    "        return fig, ax\n",
    "\n",
    "\n",
    "    def bild_plot(self,plot_df):\n",
    "        plt.rcParams['figure.facecolor'] = '#262a2f'\n",
    "        plt.rcParams['legend.frameon'] = 'False'\n",
    "\n",
    "        vals = plot_df['секунды']\n",
    "        labels = ['Время простоя', 'Время работы']\n",
    "        explode = (0.1, 0)\n",
    "        fig, ax = plt.subplots(figsize=(10,10))\n",
    "\n",
    "        ax.pie(vals, labels=None, autopct='%1.1f%%', shadow=False,\n",
    "               explode=explode,\n",
    "               rotatelabels=True,\n",
    "               colors=('#ff5533', 'w'),\n",
    "               pctdistance=0.6,\n",
    "               textprops=dict(color=\"black\"),\n",
    "               radius=1.4)\n",
    "        #ax.axis('equal')\n",
    "        return fig, ax\n",
    "\n",
    "\n"
   ]
  },
  {
   "cell_type": "code",
   "execution_count": 44,
   "metadata": {},
   "outputs": [],
   "source": [
    "a = MachineStatistics()\n",
    "d1 = str(a.curr_month_start_day) + ' 00:00:00'\n",
    "d2 = str(a.today) + ' 00:00:00'"
   ]
  },
  {
   "cell_type": "code",
   "execution_count": 16,
   "metadata": {},
   "outputs": [
    {
     "data": {
      "text/plain": [
       "(80452, 2)"
      ]
     },
     "execution_count": 16,
     "metadata": {},
     "output_type": "execute_result"
    }
   ],
   "source": [
    "df = a.read_database(d1,d2)\n",
    "df['ts'] = df.date.values.astype(np.int64) // 10 ** 9\n",
    "df.shape"
   ]
  },
  {
   "cell_type": "code",
   "execution_count": 45,
   "metadata": {},
   "outputs": [
    {
     "name": "stdout",
     "output_type": "stream",
     "text": [
      "2419190\n"
     ]
    },
    {
     "data": {
      "text/plain": [
       "(<Figure size 720x720 with 1 Axes>, <AxesSubplot:>)"
      ]
     },
     "execution_count": 45,
     "metadata": {},
     "output_type": "execute_result"
    },
    {
     "data": {
      "image/png": "[encoded data removed]",
      "text/plain": [
       "<Figure size 720x720 with 1 Axes>"
      ]
     },
     "metadata": {},
     "output_type": "display_data"
    }
   ],
   "source": [
    "a.prev_mon_pie_plot()"
   ]
  },
  {
   "cell_type": "code",
   "execution_count": 19,
   "metadata": {},
   "outputs": [
    {
     "data": {
      "text/html": [
       "<div>\n",
       "<style scoped>\n",
       "    .dataframe tbody tr th:only-of-type {\n",
       "        vertical-align: middle;\n",
       "    }\n",
       "\n",
       "    .dataframe tbody tr th {\n",
       "        vertical-align: top;\n",
       "    }\n",
       "\n",
       "    .dataframe thead th {\n",
       "        text-align: right;\n",
       "    }\n",
       "</style>\n",
       "<table border=\"1\" class=\"dataframe\">\n",
       "  <thead>\n",
       "    <tr style=\"text-align: right;\">\n",
       "      <th></th>\n",
       "      <th>time_diff</th>\n",
       "    </tr>\n",
       "  </thead>\n",
       "  <tbody>\n",
       "    <tr>\n",
       "      <th>0</th>\n",
       "      <td>15</td>\n",
       "    </tr>\n",
       "    <tr>\n",
       "      <th>1</th>\n",
       "      <td>10</td>\n",
       "    </tr>\n",
       "    <tr>\n",
       "      <th>2</th>\n",
       "      <td>5</td>\n",
       "    </tr>\n",
       "    <tr>\n",
       "      <th>3</th>\n",
       "      <td>10</td>\n",
       "    </tr>\n",
       "    <tr>\n",
       "      <th>4</th>\n",
       "      <td>5</td>\n",
       "    </tr>\n",
       "    <tr>\n",
       "      <th>...</th>\n",
       "      <td>...</td>\n",
       "    </tr>\n",
       "    <tr>\n",
       "      <th>80446</th>\n",
       "      <td>10</td>\n",
       "    </tr>\n",
       "    <tr>\n",
       "      <th>80447</th>\n",
       "      <td>10</td>\n",
       "    </tr>\n",
       "    <tr>\n",
       "      <th>80448</th>\n",
       "      <td>10</td>\n",
       "    </tr>\n",
       "    <tr>\n",
       "      <th>80449</th>\n",
       "      <td>10</td>\n",
       "    </tr>\n",
       "    <tr>\n",
       "      <th>80450</th>\n",
       "      <td>10</td>\n",
       "    </tr>\n",
       "  </tbody>\n",
       "</table>\n",
       "<p>80451 rows × 1 columns</p>\n",
       "</div>"
      ],
      "text/plain": [
       "       time_diff\n",
       "0             15\n",
       "1             10\n",
       "2              5\n",
       "3             10\n",
       "4              5\n",
       "...          ...\n",
       "80446         10\n",
       "80447         10\n",
       "80448         10\n",
       "80449         10\n",
       "80450         10\n",
       "\n",
       "[80451 rows x 1 columns]"
      ]
     },
     "execution_count": 19,
     "metadata": {},
     "output_type": "execute_result"
    }
   ],
   "source": [
    "a.find_diff(a.read_database(d1,d2))"
   ]
  },
  {
   "cell_type": "code",
   "execution_count": 21,
   "metadata": {},
   "outputs": [],
   "source": [
    "date1 = a.prev_month_last_day - a.prev_month_start_day"
   ]
  },
  {
   "cell_type": "code",
   "execution_count": 24,
   "metadata": {},
   "outputs": [
    {
     "data": {
      "text/plain": [
       "datetime.timedelta(days=27)"
      ]
     },
     "execution_count": 24,
     "metadata": {},
     "output_type": "execute_result"
    }
   ],
   "source": [
    "date1"
   ]
  },
  {
   "cell_type": "code",
   "execution_count": 25,
   "metadata": {},
   "outputs": [],
   "source": [
    "day_in = str(a.prev_month_start_day) + ' 00:00:00'\n",
    "day_out = str(a.prev_month_last_day) + ' 23:59:59'"
   ]
  },
  {
   "cell_type": "code",
   "execution_count": 27,
   "metadata": {},
   "outputs": [
    {
     "data": {
      "text/plain": [
       "'2021-02-01 00:00:00'"
      ]
     },
     "execution_count": 27,
     "metadata": {},
     "output_type": "execute_result"
    }
   ],
   "source": [
    "day_in"
   ]
  },
  {
   "cell_type": "code",
   "execution_count": 40,
   "metadata": {},
   "outputs": [],
   "source": [
    "dd = dt.strptime(day_in,'%Y-%m-%d %H:%M:%S').timestamp()"
   ]
  },
  {
   "cell_type": "code",
   "execution_count": 41,
   "metadata": {},
   "outputs": [],
   "source": [
    "ds = dt.strptime(day_out,'%Y-%m-%d %H:%M:%S').timestamp()"
   ]
  },
  {
   "cell_type": "code",
   "execution_count": 42,
   "metadata": {},
   "outputs": [
    {
     "data": {
      "text/plain": [
       "2419199.0"
      ]
     },
     "execution_count": 42,
     "metadata": {},
     "output_type": "execute_result"
    }
   ],
   "source": [
    "ds- dd"
   ]
  },
  {
   "cell_type": "code",
   "execution_count": null,
   "metadata": {},
   "outputs": [],
   "source": []
  }
 ],
 "metadata": {
  "kernelspec": {
   "display_name": "Python 3",
   "language": "python",
   "name": "python3"
  },
  "language_info": {
   "codemirror_mode": {
    "name": "ipython",
    "version": 3
   },
   "file_extension": ".py",
   "mimetype": "text/x-python",
   "name": "python",
   "nbconvert_exporter": "python",
   "pygments_lexer": "ipython3",
   "version": "3.8.5"
  }
 },
 "nbformat": 4,
 "nbformat_minor": 4
}
