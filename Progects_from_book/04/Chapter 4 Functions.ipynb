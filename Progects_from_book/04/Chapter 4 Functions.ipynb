{
 "cells": [
  {
   "cell_type": "markdown",
   "metadata": {},
   "source": [
    "Задачи, расмотренные в четвертой главе книги Python Дейтейл П."
   ]
  },
  {
   "cell_type": "code",
   "execution_count": 13,
   "metadata": {},
   "outputs": [],
   "source": [
    "def square(number):\n",
    "    '''Возвращает квадрат числа'''\n",
    "    return number ** 2"
   ]
  },
  {
   "cell_type": "code",
   "execution_count": 15,
   "metadata": {},
   "outputs": [
    {
     "name": "stdout",
     "output_type": "stream",
     "text": [
      "Квадрат числа 2 это 4\n"
     ]
    }
   ],
   "source": [
    "print(f'Квадрат числа 2 это {square(2)}')"
   ]
  },
  {
   "cell_type": "code",
   "execution_count": 37,
   "metadata": {},
   "outputs": [],
   "source": [
    "def maximum(value1, value2, value3):\n",
    "    max_value = value1\n",
    "    if value2 > max_value:\n",
    "        max_value = value2\n",
    "    if value3 > max_value:\n",
    "        max_value = value3\n",
    "    return max_value"
   ]
  },
  {
   "cell_type": "code",
   "execution_count": 38,
   "metadata": {},
   "outputs": [
    {
     "data": {
      "text/plain": [
       "3"
      ]
     },
     "execution_count": 38,
     "metadata": {},
     "output_type": "execute_result"
    }
   ],
   "source": [
    "maximum(1,2,3)"
   ]
  },
  {
   "cell_type": "code",
   "execution_count": 40,
   "metadata": {},
   "outputs": [
    {
     "name": "stdout",
     "output_type": "stream",
     "text": [
      "5 4 2 1 2 5 6 2 1 6 "
     ]
    }
   ],
   "source": [
    "import random\n",
    "for roll in range(10):\n",
    "    print(random.randrange(1,7), end=\" \")"
   ]
  },
  {
   "cell_type": "code",
   "execution_count": 44,
   "metadata": {},
   "outputs": [
    {
     "name": "stdout",
     "output_type": "stream",
     "text": [
      "FaceFrequency:>13\n",
      "   1       999845\n",
      "   2      1000397\n",
      "   3       998983\n",
      "   4      1000840\n",
      "   5       998834\n",
      "   6      1001101\n"
     ]
    }
   ],
   "source": [
    "'''6 000 000 бросков кубика'''\n",
    "import random\n",
    "\n",
    "#счетчики для граней\n",
    "f1 = 0\n",
    "f2 = 0\n",
    "f3 = 0\n",
    "f4 = 0\n",
    "f5 = 0\n",
    "f6 = 0\n",
    "\n",
    "for roll in range(6_000_000):\n",
    "    face = random.randrange(1,7)\n",
    "    if face == 1:\n",
    "        f1 += 1\n",
    "    elif face == 2:\n",
    "        f2 += 1\n",
    "    elif face == 3:\n",
    "        f3 += 1\n",
    "    elif face == 4:\n",
    "        f4 += 1\n",
    "    elif face == 5:\n",
    "        f5 += 1\n",
    "    elif face == 6:\n",
    "        f6 += 1\n",
    "print(f'Face{\"Frequency:>13\"}')\n",
    "print(f'{1:>4}{f1:>13}')\n",
    "print(f'{2:>4}{f2:>13}')\n",
    "print(f'{3:>4}{f3:>13}')\n",
    "print(f'{4:>4}{f4:>13}')\n",
    "print(f'{5:>4}{f5:>13}')\n",
    "print(f'{6:>4}{f6:>13}')\n",
    "    \n",
    "        \n",
    "        "
   ]
  },
  {
   "cell_type": "code",
   "execution_count": 97,
   "metadata": {},
   "outputs": [
    {
     "name": "stdout",
     "output_type": "stream",
     "text": [
      "Выпало 10,бросает второй раз\n",
      "Победа при 0 броске. Выпало 11\n"
     ]
    }
   ],
   "source": [
    "'''Игра Крепс мой вариант, работает не корректно'''\n",
    "\n",
    "import random\n",
    "\n",
    "cond = True\n",
    "count = 1\n",
    "goal = 0\n",
    "while cond:\n",
    "    face1 = random.randrange(1,7)\n",
    "    face2 = random.randrange(1,7)\n",
    "    faces_sum = face1+face2\n",
    "    if count != 1 and faces_sum == 7:\n",
    "        print(\"Проигрыш,выпало 7\")\n",
    "        cond = False\n",
    "    elif count != 1 and faces_sum == goal:\n",
    "        print(f\"Достиг своей цели {goal}\")\n",
    "        cond = False\n",
    "        \n",
    "    if count == 1 and faces_sum == 7 or faces_sum == 11 :\n",
    "        print(f\"Победа при {count} броске. Выпало {faces_sum}\")\n",
    "        cond = False\n",
    "    elif count == 1 and faces_sum == 2 or faces_sum == 3 or faces_sum == 12:\n",
    "        print(f\"Проигрыш при {count} броске. Выпало {faces_sum}\")\n",
    "        cond = False\n",
    "    elif count == 1 and 4 <= faces_sum <= 10:\n",
    "        goal = faces_sum\n",
    "        count = 0\n",
    "        print(f\"Выпало {faces_sum},бросает второй раз\")\n",
    "    "
   ]
  },
  {
   "cell_type": "code",
   "execution_count": 4,
   "metadata": {},
   "outputs": [
    {
     "name": "stdout",
     "output_type": "stream",
     "text": [
      "У игрока выпало 3+5 = 8\n",
      "Теперь цель 8\n",
      "У игрока выпало 2+1 = 3\n",
      "У игрока выпало 4+1 = 5\n",
      "У игрока выпало 5+6 = 11\n",
      "У игрока выпало 6+3 = 9\n",
      "У игрока выпало 6+4 = 10\n",
      "У игрока выпало 5+2 = 7\n",
      "Ты проиграл\n"
     ]
    }
   ],
   "source": [
    "''' Игра Скреп\n",
    "Игрок бросает два шестигранных кубика, на грани которых нанесены 1, 2, 3,\n",
    "4, 5 или 6 очков. Когда кубики останавливаются, вычисляется сумма очков\n",
    "на двух верхних гранях. Если при первом броске выпадает 7 или 11, игрок\n",
    "побеждает. Если при первом броске сумма равна 2, 3 или 12 («крэпс»), игрок\n",
    "проигрывает (побеждает «казино»). Если при первом броске сумма равна 4,\n",
    "5, 6, 8, 9 или 10, то она становится «целью» игрока. Чтобы победить, игрок\n",
    "должен на последующих бросках выбросить то же целевое значение. Если\n",
    "перед этим игрок выбросит 7, он проигрывает. '''\n",
    "import random\n",
    "\n",
    "\n",
    "def roll_dice():\n",
    "    face1 = random.randrange(1, 7)\n",
    "    face2 = random.randrange(1, 7)\n",
    "    return (face1, face2)  # функция формирует кортеж\n",
    "\n",
    "\n",
    "def display_dice(dice):\n",
    "    dice1, dice2 = dice\n",
    "    print(f'У игрока выпало {dice1}+{dice2} = {sum(dice)}')  # Выводит информацию о о броске\n",
    "\n",
    "\n",
    "die_value = (roll_dice())  # делаем первый бросок\n",
    "display_dice(die_value)\n",
    "\n",
    "sum_of_dice = (sum(die_value)) # находим сумму двух кубиков\n",
    "# первая часть игры\n",
    "if sum_of_dice in (7, 10):\n",
    "    game_status = \"Won\"\n",
    "elif sum_of_dice in (2, 3, 12):\n",
    "    game_status = \"Lose\"\n",
    "else:\n",
    "    game_status = \"Continue\"\n",
    "    my_goal = sum_of_dice\n",
    "    print(\"Теперь цель\", my_goal)\n",
    "# вторая часть игры\n",
    "while game_status == \"Continue\":\n",
    "    die_value = (roll_dice())\n",
    "    display_dice(die_value)\n",
    "    sum_of_dice = sum(die_value)\n",
    "\n",
    "    if sum_of_dice == my_goal:\n",
    "        game_status = \"Won\"\n",
    "    elif sum_of_dice == 7:\n",
    "        game_status = \"Lose\"\n",
    "# выводим результат\n",
    "if game_status == \"Won\":\n",
    "    print(\"Ты выйграл\")\n",
    "elif game_status == \"Lose\":\n",
    "    print(\"Ты проиграл\")"
   ]
  },
  {
   "cell_type": "code",
   "execution_count": 23,
   "metadata": {},
   "outputs": [
    {
     "data": {
      "text/plain": [
       "15"
      ]
     },
     "execution_count": 23,
     "metadata": {},
     "output_type": "execute_result"
    }
   ],
   "source": [
    "def rectangle_area(length=2, width=3):\n",
    "    '''Возвращает площать треугольника'''\n",
    "    return length*width\n",
    "rectangle_area(5)"
   ]
  },
  {
   "cell_type": "code",
   "execution_count": 26,
   "metadata": {},
   "outputs": [],
   "source": [
    "def averange(*args):\n",
    "    return sum(args)/len(args)\n"
   ]
  },
  {
   "cell_type": "code",
   "execution_count": 27,
   "metadata": {},
   "outputs": [
    {
     "data": {
      "text/plain": [
       "50.0"
      ]
     },
     "execution_count": 27,
     "metadata": {},
     "output_type": "execute_result"
    }
   ],
   "source": [
    "grades = [10,15,20,74,85,96]\n",
    "averange(*grades)"
   ]
  },
  {
   "cell_type": "code",
   "execution_count": 29,
   "metadata": {},
   "outputs": [
    {
     "name": "stdout",
     "output_type": "stream",
     "text": [
      "hello\n",
      "HELLO\n"
     ]
    },
    {
     "data": {
      "text/plain": [
       "'Hello'"
      ]
     },
     "execution_count": 29,
     "metadata": {},
     "output_type": "execute_result"
    }
   ],
   "source": [
    "s = \"Hello\"\n",
    "print(s.lower())\n",
    "print(s.upper())\n",
    "s"
   ]
  },
  {
   "cell_type": "code",
   "execution_count": 32,
   "metadata": {},
   "outputs": [
    {
     "name": "stdout",
     "output_type": "stream",
     "text": [
      "Эта переменная x была изменена на Hello\n"
     ]
    }
   ],
   "source": [
    "x = 7\n",
    "def modify_global():\n",
    "    global x\n",
    "    x = \"Hello\"\n",
    "    print(f'Эта переменная x была изменена на {x}')\n",
    "modify_global()\n",
    "    "
   ]
  },
  {
   "cell_type": "code",
   "execution_count": 3,
   "metadata": {},
   "outputs": [
    {
     "name": "stdout",
     "output_type": "stream",
     "text": [
      "6\n",
      "720\n"
     ]
    }
   ],
   "source": [
    "'''Обычный метод вычисления факториала'''\n",
    "number = int(input())\n",
    "factorial = 1\n",
    "if number <=1:\n",
    "    print(1)\n",
    "else:\n",
    "    for i in range(number,0,-1):\n",
    "        factorial *=i\n",
    "    print(factorial)\n"
   ]
  },
  {
   "cell_type": "code",
   "execution_count": 4,
   "metadata": {},
   "outputs": [
    {
     "data": {
      "text/plain": [
       "720"
      ]
     },
     "execution_count": 4,
     "metadata": {},
     "output_type": "execute_result"
    }
   ],
   "source": [
    "'''Рекурсивный метод вычисления факториала'''\n",
    "def find_factorial(number):\n",
    "    if number <=1:\n",
    "        return 1\n",
    "    return number*find_factorial(number-1)\n",
    "find_factorial(6)"
   ]
  },
  {
   "cell_type": "code",
   "execution_count": 11,
   "metadata": {},
   "outputs": [
    {
     "name": "stdout",
     "output_type": "stream",
     "text": [
      "Дисперсия: 2.25, стандартное отклонение: 1.5\n"
     ]
    }
   ],
   "source": [
    "import statistics as stat\n",
    "sample = [1,3,4,2,6,5,3,4,5,2]\n",
    "d = stat.pvariance(sample)\n",
    "sd = stat.pstdev(sample)\n",
    "print(f'Дисперсия: {d:>2}, стандартное отклонение: {sd:>2}')"
   ]
  },
  {
   "cell_type": "code",
   "execution_count": null,
   "metadata": {},
   "outputs": [],
   "source": []
  }
 ],
 "metadata": {
  "kernelspec": {
   "display_name": "Python 3",
   "language": "python",
   "name": "python3"
  },
  "language_info": {
   "codemirror_mode": {
    "name": "ipython",
    "version": 3
   },
   "file_extension": ".py",
   "mimetype": "text/x-python",
   "name": "python",
   "nbconvert_exporter": "python",
   "pygments_lexer": "ipython3",
   "version": "3.8.3"
  }
 },
 "nbformat": 4,
 "nbformat_minor": 4
}
