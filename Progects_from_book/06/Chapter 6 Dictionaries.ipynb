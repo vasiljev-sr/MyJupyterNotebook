{
 "cells": [
  {
   "cell_type": "markdown",
   "metadata": {},
   "source": [
    "# Словари\n"
   ]
  },
  {
   "cell_type": "code",
   "execution_count": 31,
   "metadata": {},
   "outputs": [],
   "source": [
    "country_codes  = {'Finland':'fi', 'South Africa': 'za', 'Nepal':'np'}\n"
   ]
  },
  {
   "cell_type": "code",
   "execution_count": 2,
   "metadata": {},
   "outputs": [
    {
     "data": {
      "text/plain": [
       "{'Finland': 'fi', 'South Africa': 'za', 'Nepal': 'np'}"
      ]
     },
     "execution_count": 2,
     "metadata": {},
     "output_type": "execute_result"
    }
   ],
   "source": [
    "country_codes"
   ]
  },
  {
   "cell_type": "code",
   "execution_count": 3,
   "metadata": {},
   "outputs": [
    {
     "data": {
      "text/plain": [
       "3"
      ]
     },
     "execution_count": 3,
     "metadata": {},
     "output_type": "execute_result"
    }
   ],
   "source": [
    "len(country_codes) # Встроенная функция len возвращает количество пар «ключ-значение» в словаре."
   ]
  },
  {
   "cell_type": "code",
   "execution_count": 4,
   "metadata": {},
   "outputs": [
    {
     "name": "stdout",
     "output_type": "stream",
     "text": [
      "Словарь не пустой\n"
     ]
    }
   ],
   "source": [
    "'''Словарь может использоваться в качестве условия для проверки того, содер-\n",
    "жит ли он хотя бы одну пару, — непустой словарь интерпретируется как True'''\n",
    "\n",
    "if country_codes: \n",
    "    print(\"Словарь не пустой\")\n",
    "else:\n",
    "    print('Словарь пустой')"
   ]
  },
  {
   "cell_type": "code",
   "execution_count": 5,
   "metadata": {},
   "outputs": [
    {
     "name": "stdout",
     "output_type": "stream",
     "text": [
      "Словарь пустой\n"
     ]
    }
   ],
   "source": [
    "'''Пустой словарь интерпретируется как False.'''\n",
    "\n",
    "country_codes.clear()\n",
    "\n",
    "if country_codes: \n",
    "    print(\"Словарь не пустой\")\n",
    "else:\n",
    "    print('Словарь пустой')"
   ]
  },
  {
   "cell_type": "code",
   "execution_count": 6,
   "metadata": {},
   "outputs": [],
   "source": [
    "days_per_month = {'January': 31, 'February': 28, 'March': 31}"
   ]
  },
  {
   "cell_type": "code",
   "execution_count": 7,
   "metadata": {},
   "outputs": [
    {
     "data": {
      "text/plain": [
       "{'January': 31, 'February': 28, 'March': 31}"
      ]
     },
     "execution_count": 7,
     "metadata": {},
     "output_type": "execute_result"
    }
   ],
   "source": [
    "days_per_month"
   ]
  },
  {
   "cell_type": "code",
   "execution_count": 8,
   "metadata": {},
   "outputs": [
    {
     "name": "stdout",
     "output_type": "stream",
     "text": [
      "January has 31 days\n",
      "February has 28 days\n",
      "March has 31 days\n"
     ]
    }
   ],
   "source": [
    "for mounth, day in days_per_month.items():\n",
    "    print(f'{mounth} has {day} days')"
   ]
  },
  {
   "cell_type": "code",
   "execution_count": 9,
   "metadata": {},
   "outputs": [],
   "source": [
    "roman_numerals = {'I':1,'II':2,'III':3,'V':5,'X':100}\n"
   ]
  },
  {
   "cell_type": "code",
   "execution_count": 10,
   "metadata": {},
   "outputs": [
    {
     "data": {
      "text/plain": [
       "{'I': 1, 'II': 2, 'III': 3, 'V': 5, 'X': 100}"
      ]
     },
     "execution_count": 10,
     "metadata": {},
     "output_type": "execute_result"
    }
   ],
   "source": [
    "roman_numerals"
   ]
  },
  {
   "cell_type": "code",
   "execution_count": 11,
   "metadata": {},
   "outputs": [],
   "source": [
    "roman_numerals['X'] = 10"
   ]
  },
  {
   "cell_type": "code",
   "execution_count": 12,
   "metadata": {},
   "outputs": [
    {
     "data": {
      "text/plain": [
       "{'I': 1, 'II': 2, 'III': 3, 'V': 5, 'X': 10}"
      ]
     },
     "execution_count": 12,
     "metadata": {},
     "output_type": "execute_result"
    }
   ],
   "source": [
    "roman_numerals"
   ]
  },
  {
   "cell_type": "code",
   "execution_count": 13,
   "metadata": {},
   "outputs": [],
   "source": [
    "roman_numerals['L'] = 50"
   ]
  },
  {
   "cell_type": "code",
   "execution_count": 14,
   "metadata": {},
   "outputs": [
    {
     "data": {
      "text/plain": [
       "{'I': 1, 'II': 2, 'III': 3, 'V': 5, 'X': 10, 'L': 50}"
      ]
     },
     "execution_count": 14,
     "metadata": {},
     "output_type": "execute_result"
    }
   ],
   "source": [
    "roman_numerals"
   ]
  },
  {
   "cell_type": "code",
   "execution_count": 15,
   "metadata": {},
   "outputs": [],
   "source": [
    "del roman_numerals['L']"
   ]
  },
  {
   "cell_type": "code",
   "execution_count": 16,
   "metadata": {},
   "outputs": [
    {
     "data": {
      "text/plain": [
       "3"
      ]
     },
     "execution_count": 16,
     "metadata": {},
     "output_type": "execute_result"
    }
   ],
   "source": [
    "roman_numerals.pop('III')"
   ]
  },
  {
   "cell_type": "code",
   "execution_count": 18,
   "metadata": {},
   "outputs": [
    {
     "data": {
      "text/plain": [
       "'Нет в словаре'"
      ]
     },
     "execution_count": 18,
     "metadata": {},
     "output_type": "execute_result"
    }
   ],
   "source": [
    "roman_numerals.get('III','Нет в словаре')"
   ]
  },
  {
   "cell_type": "code",
   "execution_count": 35,
   "metadata": {},
   "outputs": [
    {
     "name": "stdout",
     "output_type": "stream",
     "text": [
      "Finland\n",
      "South Africa\n",
      "Nepal\n"
     ]
    }
   ],
   "source": [
    "codes = country_codes.keys()\n",
    "len(country_codes)\n",
    "for i in codes:\n",
    "    print(i)"
   ]
  },
  {
   "cell_type": "code",
   "execution_count": 37,
   "metadata": {},
   "outputs": [
    {
     "data": {
      "text/plain": [
       "['Finland', 'South Africa', 'Nepal']"
      ]
     },
     "execution_count": 37,
     "metadata": {},
     "output_type": "execute_result"
    }
   ],
   "source": [
    "list(country_codes.keys())\n"
   ]
  },
  {
   "cell_type": "code",
   "execution_count": 44,
   "metadata": {},
   "outputs": [
    {
     "name": "stdout",
     "output_type": "stream",
     "text": [
      "Finland,Nepal,South Africa,"
     ]
    }
   ],
   "source": [
    "for code in sorted(country_codes.keys()):\n",
    "    print(code, end = \",\")"
   ]
  },
  {
   "cell_type": "code",
   "execution_count": 45,
   "metadata": {},
   "outputs": [
    {
     "data": {
      "text/plain": [
       "<dict_keyiterator at 0x7f30a0d64f90>"
      ]
     },
     "execution_count": 45,
     "metadata": {},
     "output_type": "execute_result"
    }
   ],
   "source": [
    "iter(country_codes)"
   ]
  },
  {
   "cell_type": "code",
   "execution_count": 1,
   "metadata": {},
   "outputs": [
    {
     "name": "stdout",
     "output_type": "stream",
     "text": [
      "Avarange for Sam is  91.00\n",
      "Avarange for Max is  76.67\n",
      "Avarange for Nil is  87.33\n",
      "Class avarange is  85.00\n"
     ]
    }
   ],
   "source": [
    "'''Словарь с оценками студентов'''\n",
    "grade_book = {'Sam': [100,95,78],\n",
    "             'Max':[98,54,78],\n",
    "             'Nil':[88,78,96]}\n",
    "all_crades = 0\n",
    "all_count = 0\n",
    "for name,grade in grade_book.items():\n",
    "    total = sum(grade)\n",
    "    print(f'Avarange for {name} is {total/len(grade): .2f}')\n",
    "    all_crades += total\n",
    "    all_count += len(grade)\n",
    "print(f'Class avarange is {all_crades/all_count: .2f}')\n",
    "    "
   ]
  },
  {
   "cell_type": "code",
   "execution_count": 2,
   "metadata": {},
   "outputs": [
    {
     "name": "stdout",
     "output_type": "stream",
     "text": [
      "WORD         COUNT\n",
      "this         2\n",
      "is           2\n",
      "sample       2\n",
      "text         2\n",
      "with         2\n",
      "several      1\n",
      "words        2\n",
      "more         1\n",
      "some         1\n",
      "different    1\n",
      "Number of uniq word 10\n"
     ]
    }
   ],
   "source": [
    "text = ('this is sample text with several words '\n",
    "'this is more sample text with some different words')\n",
    "word_count = {}\n",
    "for word in text.split():\n",
    "    if word in word_count:\n",
    "        word_count[word] += 1\n",
    "    else:\n",
    "        word_count[word] = 1\n",
    "print(f'{\"WORD\":<12} COUNT')\n",
    "for word,count in word_count.items():\n",
    "    print(f'{word:<12} {count}')\n",
    "print(\"Number of uniq word\", len(word_count))"
   ]
  },
  {
   "cell_type": "code",
   "execution_count": 3,
   "metadata": {},
   "outputs": [
    {
     "name": "stdout",
     "output_type": "stream",
     "text": [
      "different    1\n",
      "is           2\n",
      "more         1\n",
      "sample       2\n",
      "several      1\n",
      "some         1\n",
      "text         2\n",
      "this         2\n",
      "with         2\n",
      "words        2\n"
     ]
    }
   ],
   "source": [
    "from collections import Counter\n",
    "text = ('this is sample text with several words '\n",
    "'this is more sample text with some different words')\n",
    "counter = Counter(text.split())\n",
    "for word,count in sorted(counter.items()):\n",
    "    print(f'{word:<12} {count}')"
   ]
  },
  {
   "cell_type": "markdown",
   "metadata": {},
   "source": [
    "# Множества"
   ]
  },
  {
   "cell_type": "code",
   "execution_count": 6,
   "metadata": {},
   "outputs": [
    {
     "data": {
      "text/plain": [
       "{1, 2}"
      ]
     },
     "execution_count": 6,
     "metadata": {},
     "output_type": "execute_result"
    }
   ],
   "source": [
    "numbers = {1,2,1,2,1,2}\n",
    "numbers"
   ]
  },
  {
   "cell_type": "code",
   "execution_count": 7,
   "metadata": {},
   "outputs": [
    {
     "data": {
      "text/plain": [
       "2"
      ]
     },
     "execution_count": 7,
     "metadata": {},
     "output_type": "execute_result"
    }
   ],
   "source": [
    "len(numbers) # определение длины множества"
   ]
  },
  {
   "cell_type": "code",
   "execution_count": 8,
   "metadata": {},
   "outputs": [
    {
     "data": {
      "text/plain": [
       "True"
      ]
     },
     "execution_count": 8,
     "metadata": {},
     "output_type": "execute_result"
    }
   ],
   "source": [
    "1 in numbers # проверка наличия значения во множестве"
   ]
  },
  {
   "cell_type": "code",
   "execution_count": 9,
   "metadata": {},
   "outputs": [
    {
     "data": {
      "text/plain": [
       "False"
      ]
     },
     "execution_count": 9,
     "metadata": {},
     "output_type": "execute_result"
    }
   ],
   "source": [
    "3 in numbers\n"
   ]
  },
  {
   "cell_type": "code",
   "execution_count": 11,
   "metadata": {},
   "outputs": [
    {
     "name": "stdout",
     "output_type": "stream",
     "text": [
      "ORANE BLUE ELLOW REEN RED "
     ]
    }
   ],
   "source": [
    "colors = {'red', 'orane', 'ellow', 'reen', 'red', 'blue'}\n",
    "for color in colors:\n",
    "    print(color.upper(), end=\" \")"
   ]
  },
  {
   "cell_type": "code",
   "execution_count": 13,
   "metadata": {},
   "outputs": [
    {
     "data": {
      "text/plain": [
       "{0, 1, 2, 3, 4, 5, 6, 7, 8, 9}"
      ]
     },
     "execution_count": 13,
     "metadata": {},
     "output_type": "execute_result"
    }
   ],
   "source": [
    "'''Создание множества функцией set()'''\n",
    "numbers = list(range(10))+list(range(5))\n",
    "numbers\n",
    "set(numbers)"
   ]
  },
  {
   "cell_type": "markdown",
   "metadata": {},
   "source": [
    "## Мат операции"
   ]
  },
  {
   "cell_type": "code",
   "execution_count": 14,
   "metadata": {},
   "outputs": [
    {
     "data": {
      "text/plain": [
       "{1, 2, 3, 4}"
      ]
     },
     "execution_count": 14,
     "metadata": {},
     "output_type": "execute_result"
    }
   ],
   "source": [
    "# объединение\n",
    "{1,2,3}|{2,3,4}"
   ]
  },
  {
   "cell_type": "code",
   "execution_count": 17,
   "metadata": {},
   "outputs": [
    {
     "data": {
      "text/plain": [
       "{1, 2, 3, 4, 40}"
      ]
     },
     "execution_count": 17,
     "metadata": {},
     "output_type": "execute_result"
    }
   ],
   "source": [
    "{1,2,3}.union({2,3,4,3,40})"
   ]
  },
  {
   "cell_type": "code",
   "execution_count": 18,
   "metadata": {},
   "outputs": [
    {
     "data": {
      "text/plain": [
       "{3}"
      ]
     },
     "execution_count": 18,
     "metadata": {},
     "output_type": "execute_result"
    }
   ],
   "source": [
    "# пересечение\n",
    "{1,2,3}&{3,5,6}"
   ]
  },
  {
   "cell_type": "code",
   "execution_count": 19,
   "metadata": {},
   "outputs": [
    {
     "data": {
      "text/plain": [
       "{3}"
      ]
     },
     "execution_count": 19,
     "metadata": {},
     "output_type": "execute_result"
    }
   ],
   "source": [
    "{1,2,3}.intersection({3,5,6})"
   ]
  },
  {
   "cell_type": "code",
   "execution_count": 20,
   "metadata": {},
   "outputs": [
    {
     "data": {
      "text/plain": [
       "{1, 2}"
      ]
     },
     "execution_count": 20,
     "metadata": {},
     "output_type": "execute_result"
    }
   ],
   "source": [
    "# разность\n",
    "{1,2,3}-{3,5,6}"
   ]
  },
  {
   "cell_type": "code",
   "execution_count": 21,
   "metadata": {},
   "outputs": [
    {
     "data": {
      "text/plain": [
       "{1, 2}"
      ]
     },
     "execution_count": 21,
     "metadata": {},
     "output_type": "execute_result"
    }
   ],
   "source": [
    "{1,2,3}.difference({3,5,6})"
   ]
  },
  {
   "cell_type": "code",
   "execution_count": 22,
   "metadata": {},
   "outputs": [
    {
     "data": {
      "text/plain": [
       "{1, 2, 5, 6}"
      ]
     },
     "execution_count": 22,
     "metadata": {},
     "output_type": "execute_result"
    }
   ],
   "source": [
    "# симметричская разность\n",
    "{1,2,3}^{3,5,6}"
   ]
  },
  {
   "cell_type": "code",
   "execution_count": 24,
   "metadata": {},
   "outputs": [
    {
     "data": {
      "text/plain": [
       "{1, 2, 5, 6}"
      ]
     },
     "execution_count": 24,
     "metadata": {},
     "output_type": "execute_result"
    }
   ],
   "source": [
    "{1,2,3}.symmetric_difference({3,5,6})"
   ]
  },
  {
   "cell_type": "code",
   "execution_count": 25,
   "metadata": {},
   "outputs": [
    {
     "data": {
      "text/plain": [
       "True"
      ]
     },
     "execution_count": 25,
     "metadata": {},
     "output_type": "execute_result"
    }
   ],
   "source": [
    "# непрекасающиеся множества\n",
    "{1, 3, 5}.isdisjoint({2, 4, 6})"
   ]
  },
  {
   "cell_type": "code",
   "execution_count": 31,
   "metadata": {},
   "outputs": [],
   "source": [
    "num = set(numbers)"
   ]
  },
  {
   "cell_type": "code",
   "execution_count": 33,
   "metadata": {},
   "outputs": [],
   "source": [
    "num.add(100)"
   ]
  },
  {
   "cell_type": "code",
   "execution_count": 34,
   "metadata": {},
   "outputs": [
    {
     "data": {
      "text/plain": [
       "{0, 1, 2, 3, 4, 5, 6, 7, 8, 9, 100}"
      ]
     },
     "execution_count": 34,
     "metadata": {},
     "output_type": "execute_result"
    }
   ],
   "source": [
    "num"
   ]
  },
  {
   "cell_type": "code",
   "execution_count": 38,
   "metadata": {},
   "outputs": [
    {
     "data": {
      "text/plain": [
       "{0, 1, 2, 4, 5, 6, 7, 8, 9, 100}"
      ]
     },
     "execution_count": 38,
     "metadata": {},
     "output_type": "execute_result"
    }
   ],
   "source": [
    "num"
   ]
  },
  {
   "cell_type": "code",
   "execution_count": 39,
   "metadata": {},
   "outputs": [],
   "source": [
    "num.discard(5)"
   ]
  },
  {
   "cell_type": "markdown",
   "metadata": {},
   "source": [
    "\n",
    "# Динамическая визуализация"
   ]
  },
  {
   "cell_type": "code",
   "execution_count": 43,
   "metadata": {},
   "outputs": [
    {
     "ename": "ValueError",
     "evalue": "invalid literal for int() with base 10: '-f'",
     "output_type": "error",
     "traceback": [
      "\u001b[0;31m---------------------------------------------------------------------------\u001b[0m",
      "\u001b[0;31mValueError\u001b[0m                                Traceback (most recent call last)",
      "\u001b[0;32m<ipython-input-43-36420aed98cc>\u001b[0m in \u001b[0;36m<module>\u001b[0;34m\u001b[0m\n\u001b[1;32m     21\u001b[0m         \u001b[0mtext\u001b[0m \u001b[0;34m=\u001b[0m \u001b[0;34mf'{frequency}\\n {frequency/sum(frequencies):.3%}'\u001b[0m\u001b[0;34m\u001b[0m\u001b[0;34m\u001b[0m\u001b[0m\n\u001b[1;32m     22\u001b[0m         \u001b[0maxes\u001b[0m\u001b[0;34m.\u001b[0m\u001b[0mtext\u001b[0m\u001b[0;34m(\u001b[0m\u001b[0mtext_x\u001b[0m\u001b[0;34m,\u001b[0m\u001b[0mtext_y\u001b[0m\u001b[0;34m,\u001b[0m\u001b[0mtext\u001b[0m\u001b[0;34m,\u001b[0m\u001b[0mha\u001b[0m\u001b[0;34m=\u001b[0m\u001b[0;34m\"center\"\u001b[0m\u001b[0;34m,\u001b[0m\u001b[0mva\u001b[0m\u001b[0;34m=\u001b[0m\u001b[0;34m\"bottom\"\u001b[0m\u001b[0;34m)\u001b[0m\u001b[0;34m\u001b[0m\u001b[0;34m\u001b[0m\u001b[0m\n\u001b[0;32m---> 23\u001b[0;31m \u001b[0mnumber_of_frames\u001b[0m \u001b[0;34m=\u001b[0m \u001b[0mint\u001b[0m\u001b[0;34m(\u001b[0m\u001b[0msys\u001b[0m\u001b[0;34m.\u001b[0m\u001b[0margv\u001b[0m\u001b[0;34m[\u001b[0m\u001b[0;36m1\u001b[0m\u001b[0;34m]\u001b[0m\u001b[0;34m)\u001b[0m\u001b[0;34m\u001b[0m\u001b[0;34m\u001b[0m\u001b[0m\n\u001b[0m\u001b[1;32m     24\u001b[0m \u001b[0mrolls_per_frame\u001b[0m \u001b[0;34m=\u001b[0m \u001b[0mint\u001b[0m\u001b[0;34m(\u001b[0m\u001b[0msys\u001b[0m\u001b[0;34m.\u001b[0m\u001b[0margv\u001b[0m\u001b[0;34m[\u001b[0m\u001b[0;36m2\u001b[0m\u001b[0;34m]\u001b[0m\u001b[0;34m)\u001b[0m\u001b[0;34m\u001b[0m\u001b[0;34m\u001b[0m\u001b[0m\n\u001b[1;32m     25\u001b[0m \u001b[0;34m\u001b[0m\u001b[0m\n",
      "\u001b[0;31mValueError\u001b[0m: invalid literal for int() with base 10: '-f'"
     ]
    }
   ],
   "source": [
    "from matplotlib import animation\n",
    "import matplotlib.pyplot as plt\n",
    "import random\n",
    "import seaborn as sns\n",
    "import sys\n",
    "def update(frame_number,rolls,faces,frequencies):\n",
    "    # бросок кубика и бновление частот\n",
    "    for i in range(rolls):\n",
    "        frequencies[random.randrange(1,7)-1] += 1\n",
    "    # настройка диаграммы для обновления частот\n",
    "    plt.cla() # очистка старого содержимого диаграммы\n",
    "    axes = sns.barplot(faces,frequencies,palette=\"dark\")\n",
    "    axes.set_title(f'Частота бросков для {sum(frequencies)}')\n",
    "    axes.set(xlabel = \"Грань кубика\", ylabel= \"Частота бросков\")\n",
    "    axes.set_ylim(top = max(frequencies)*1.2)\n",
    "    \n",
    "    # вывод частоты процента над каждым столбцом\n",
    "    for bar,frequency in zip(axes.patches, frequencies):\n",
    "        text_x = bar.get_x()+bar.get_width()/2\n",
    "        text_y = bar.get_height()\n",
    "        text = f'{frequency}\\n {frequency/sum(frequencies):.3%}'\n",
    "        axes.text(text_x,text_y,text,ha=\"center\",va=\"bottom\")\n",
    "number_of_frames = int(sys.argv[1])\n",
    "rolls_per_frame = int(sys.argv[2])\n",
    "\n",
    "sns.set_style(\"whitegrid\")\n",
    "figure = plt.figure(\"Rolling a Six-Sided Die\")\n",
    "values = list(range(1,7))\n",
    "frequencies = [0]*6\n",
    "\n",
    "die_animation = animation.FuncAnimation(figure,update,repeat=False,frames=number_of_frames,interval=33,\n",
    "                                       fargs=(rolls_per_frame,values,frequencies))\n",
    "plt.show()"
   ]
  },
  {
   "cell_type": "code",
   "execution_count": 44,
   "metadata": {},
   "outputs": [
    {
     "name": "stdout",
     "output_type": "stream",
     "text": [
      "The following commands were written to file `RollDi.py`:\n",
      "from matplotlib import animation\n",
      "import matplotlib.pyplot as plt\n",
      "import random\n",
      "import seaborn as sns\n",
      "import sys\n",
      "def update(frame_number,rolls,faces,frequencies):\n",
      "    # бросок кубика и бновление частот\n",
      "    for i in range(rolls):\n",
      "        frequencies[random.randrange(1-7)-1] += 1\n",
      "    # настройка диаграммы для обновления частот\n",
      "    plt.cla() # очистка старого содержимого диаграммы\n",
      "    axes = sns.barplot(faces,frequencies,palette=\"dark\")\n",
      "    axes.set_title(f'Частота бросков для {sum(frequencies)}')\n",
      "    axes.set(xlabel = \"Грань кубика\", ylabel= \"Частота бросков\")\n",
      "    axes.set_ylim(top = max(frequencies)*1.2)\n",
      "    \n",
      "    # вывод частоты процента над каждым столбцом\n",
      "    for bar,frequency in zip(axes.patches, frequencies):\n",
      "        text_x = bar.get_x()+bar.get_width()/2\n",
      "        text_y = bar.get_height()\n",
      "        text = f'{frequency}\\n {frequency/sum(frequencies):.3%}'\n",
      "        axes.text(text_x,text_y,text,ha=\"center\",va=\"bottom\")\n",
      "number_of_frames = int(sys.argv[1])\n",
      "rolls_per_frame = int(sys.argv[2])\n",
      "\n",
      "sns.set_style(\"whitegrid\")\n",
      "figure = plt.figure(\"Rolling a Six-Sided Die\")\n",
      "values = list(range(1,7))\n",
      "frequencies = [0]*6\n",
      "\n",
      "die_animation = animation.FuncAnimation(figure,update,repeat=False,frames=number_of_frames,interval=33,\n",
      "                                       fargs=(rolls_per_frame,values,frequencies))\n",
      "plt.show()\n"
     ]
    }
   ],
   "source": [
    "%save RollDi.py 43"
   ]
  },
  {
   "cell_type": "code",
   "execution_count": null,
   "metadata": {},
   "outputs": [],
   "source": []
  }
 ],
 "metadata": {
  "kernelspec": {
   "display_name": "Python 3",
   "language": "python",
   "name": "python3"
  },
  "language_info": {
   "codemirror_mode": {
    "name": "ipython",
    "version": 3
   },
   "file_extension": ".py",
   "mimetype": "text/x-python",
   "name": "python",
   "nbconvert_exporter": "python",
   "pygments_lexer": "ipython3",
   "version": "3.8.3"
  }
 },
 "nbformat": 4,
 "nbformat_minor": 4
}
