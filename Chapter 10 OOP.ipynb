{
 "cells": [
  {
   "cell_type": "markdown",
   "metadata": {},
   "source": [
    "# Класс Account "
   ]
  },
  {
   "cell_type": "code",
   "execution_count": null,
   "metadata": {},
   "outputs": [],
   "source": [
    "from decimal import Decimal\n",
    "\n",
    "class Account:\n",
    "    '''Класс  Account для ведения банковского счета'''\n",
    "    def __init__(self,name,balance):\n",
    "        '''Инилициализачия обьекта Account'''\n",
    "        if balance < Decimal('0.00'):\n",
    "            raise ValueError('Initial balance must be >= to 0.00')\n",
    "        \n",
    "        self.name = name\n",
    "        self.balance = balance\n",
    "        \n",
    "    def deposit(self,amount):\n",
    "        if amount < Decimal('0.00'):\n",
    "            raise ValueError('Amount must be >= to 0.00')\n",
    "        \n",
    "        self.balance += amount"
   ]
  }
 ],
 "metadata": {
  "kernelspec": {
   "display_name": "Python 3",
   "language": "python",
   "name": "python3"
  },
  "language_info": {
   "codemirror_mode": {
    "name": "ipython",
    "version": 3
   },
   "file_extension": ".py",
   "mimetype": "text/x-python",
   "name": "python",
   "nbconvert_exporter": "python",
   "pygments_lexer": "ipython3",
   "version": "3.8.3"
  }
 },
 "nbformat": 4,
 "nbformat_minor": 4
}
