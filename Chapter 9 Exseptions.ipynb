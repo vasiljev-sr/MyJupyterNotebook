{
 "cells": [
  {
   "cell_type": "code",
   "execution_count": 1,
   "metadata": {},
   "outputs": [],
   "source": [
    "with open('new.txt', mode = 'w') as accounts:\n",
    "    accounts.write('100 Jones 24.98\\n')\n",
    "    accounts.write('200 Doe 345.67\\n')\n",
    "    accounts.write('300 White 0.00\\n')\n",
    "    accounts.write('400 Stone -42.16\\n')\n",
    "    accounts.write('500 Rich 224.62\\n')\n",
    "    "
   ]
  },
  {
   "cell_type": "code",
   "execution_count": 5,
   "metadata": {},
   "outputs": [],
   "source": [
    "acc = open('new.txt', mode = 'r')\n",
    "temp_file = open('new2.txt', mode = 'w')\n",
    "with acc,temp_file:\n",
    "    for i in acc:\n",
    "        ac, name,bal = i.split()\n",
    "        if ac != '300':\n",
    "            temp_file.write(i)\n",
    "        else:\n",
    "            new_i = ' '.join([ac,'William',bal])\n",
    "            temp_file.write(new_i+ '\\n')"
   ]
  },
  {
   "cell_type": "code",
   "execution_count": 6,
   "metadata": {},
   "outputs": [],
   "source": [
    "import os "
   ]
  },
  {
   "cell_type": "code",
   "execution_count": 7,
   "metadata": {},
   "outputs": [],
   "source": [
    "os.remove('new.txt')"
   ]
  },
  {
   "cell_type": "code",
   "execution_count": 8,
   "metadata": {},
   "outputs": [],
   "source": [
    "os.rename('new2.txt', 'accounts.txt')"
   ]
  },
  {
   "cell_type": "code",
   "execution_count": 9,
   "metadata": {},
   "outputs": [],
   "source": [
    " accounts_dict = {'accounts': [\n",
    "  {'account': 100, 'name': 'Jones', 'balance': 24.98},\n",
    "  {'account': 200, 'name': 'Doe', 'balance': 345.67}]}"
   ]
  },
  {
   "cell_type": "code",
   "execution_count": 10,
   "metadata": {},
   "outputs": [],
   "source": [
    "import json\n",
    "with open('account.json','w') as accounts:\n",
    "    json.dump(accounts_dict,accounts)"
   ]
  },
  {
   "cell_type": "code",
   "execution_count": 2,
   "metadata": {},
   "outputs": [],
   "source": [
    "import csv\n",
    "with open('accounts.csv', mode = 'w', newline= '') as ac:\n",
    "    writer = csv.writer(ac)\n",
    "    writer.writerow([100, 'Jones', 24.98])\n",
    "    writer.writerow([200, 'Doe', 345.67])\n",
    "    writer.writerow([300, 'White', 0.00])\n",
    "    writer.writerow([400, 'Stone', -42.16])\n",
    "    writer.writerow([500, 'Rich', 224.62])\n",
    " "
   ]
  },
  {
   "cell_type": "code",
   "execution_count": null,
   "metadata": {},
   "outputs": [],
   "source": []
  }
 ],
 "metadata": {
  "kernelspec": {
   "display_name": "Python 3",
   "language": "python",
   "name": "python3"
  },
  "language_info": {
   "codemirror_mode": {
    "name": "ipython",
    "version": 3
   },
   "file_extension": ".py",
   "mimetype": "text/x-python",
   "name": "python",
   "nbconvert_exporter": "python",
   "pygments_lexer": "ipython3",
   "version": "3.8.3"
  }
 },
 "nbformat": 4,
 "nbformat_minor": 4
}
